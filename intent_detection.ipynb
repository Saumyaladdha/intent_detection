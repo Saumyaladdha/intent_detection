{
  "cells": [
    {
      "cell_type": "markdown",
      "source": [
        "# **Summary for Colab Implementation**\n",
        "This project demonstrates an end-to-end pipeline for Intent Detection using BERT in Google Colab. Below is a concise summary of the steps and purpose for each section of the provided Colab implementation:\n",
        "\n",
        "# 1. **Data Preparation**\n",
        "Purpose: Convert raw textual queries into a format suitable for BERT input and encode intent labels for classification.\n",
        "Steps:\n",
        "Load the dataset (sofmattress_train.csv) containing user queries (sentence) and corresponding intent labels (label).\n",
        "Tokenize the text using BERT Tokenizer to generate input_ids and attention_masks.\n",
        "Encode the labels using a numerical mapping (label_map) and split the data into training and validation sets.\n",
        "Wrap the data in DataLoader objects for efficient batching during training and evaluation.\n",
        "# 2. **Model Definition and Training**\n",
        "Purpose: Fine-tune a pre-trained BERT model (bert-base-uncased) for multi-class intent classification.\n",
        "Steps:\n",
        "Load BERTForSequenceClassification and customize the number of output labels based on the dataset.\n",
        "Use weighted CrossEntropyLoss to handle class imbalance.\n",
        "Train the model for 30 epochs using AdamW optimizer and a learning rate scheduler (StepLR) for gradual decay.\n",
        "Monitor training progress using average training loss and evaluate on the validation set with metrics like:\n",
        "Validation Loss\n",
        "Precision, Recall, F1-Score (via classification_report).\n",
        "# 3. **Model Saving**\n",
        "Purpose: Save the trained model, tokenizer, and label map for reuse during inference.\n",
        "Steps:\n",
        "Save the fine-tuned model and tokenizer using save_pretrained() into the ./bert_intent_model directory.\n",
        "Save the reverse label map (label_map.json) to map numeric predictions back to intent names.\n",
        "# **4. Prediction and Inference**\n",
        "Purpose: Use the trained model to predict intents for new user queries.\n",
        "Steps:\n",
        "Load the saved model, tokenizer, and label map from ./bert_intent_model.\n",
        "Define a function predict_intent(sentence) to:\n",
        "Tokenize input sentences.\n",
        "Perform inference using the model.\n",
        "Map the numeric prediction back to the corresponding intent name.\n",
        "Test the model with sample queries (e.g., \"Can I return this item?\").\n",
        "# **5. Key Outputs**\n",
        "Training Loss: Average training loss decreases across epochs, indicating effective model learning.\n",
        "Validation Metrics:\n",
        "Accuracy: 91%\n",
        "Precision, Recall, F1-Score: High performance across most intents with minimal misclassifications.\n",
        "Sample Predictions:\n",
        "Sentence: Can I return this item? | Predicted Intent: RETURN_EXCHANGE\n",
        "Sentence: Why hasn’t my package arrived yet? its been delayed | Predicted Intent: DELAY_IN_DELIVERY\n",
        "Sentence: Do you offer cash on delivery? | Predicted Intent: COD\n",
        "Sentence: I'm interested in learning more about your services. | Predicted Intent: LEAD_GEN\n",
        "Sentence: Could you schedule a call with a support agent for tomorrow? | Predicted Intent: LEAD_GEN\n"
      ],
      "metadata": {
        "id": "kgPx9lMXCqRo"
      }
    },
    {
      "cell_type": "code",
      "execution_count": 6,
      "metadata": {
        "colab": {
          "base_uri": "https://localhost:8080/",
          "height": 318,
          "referenced_widgets": [
            "91869405258c49e18a6437036bcc28ee",
            "5cffbb167ac04e4bbd4d6ea18e4bf2ae",
            "dc5792ba66894dbba1be14b94c5408a3",
            "0fde65f483934ee6a9c995cbb482a533",
            "880949c185e745c38530d60a7d7a7b6a",
            "b7bc74535d3841e3a1101fedd412026c",
            "e2c9b815c31e4335928bc7d59e3c4f81",
            "4a273aa9d7a14e79bfdc325a82294d49",
            "00fe7794e98e440f8135fb31c7355161",
            "c553e46181014d208378dac80f229a3d",
            "ad299e2338a14d10aeee63f10b5bc3c1",
            "70f0e37ab9044aba82a1ca51e88ab702",
            "a6d41410ebff4709b518a48d3a2cd44c",
            "10adc2daa3154580b480251efb9b7bf4",
            "9e2b7ba8986e4adbbd5d3b429f06e643",
            "25d9d00d0075484db882aa909f545551",
            "c5b7f055cd6745a4bca538f127dac83b",
            "ce46719ecda64038bded51fabb397083",
            "fe06b371c329428fb2d5a20da85f087d",
            "9f4cb0c666744553bd3494cb67f58f68",
            "4a5b8da87314479084c71550859d4698",
            "982b6596fc19438290caac6b57a44ee3",
            "0b4bf3ef1a2f4317a59021af0f0a503e",
            "675ff498e85a413e9cc1c9849d1c927d",
            "3dda32eac6924b0598bfeee9f63385a3",
            "a3ab810801c1481e88e04d3f217857e4",
            "4a67cbe21af24691859389d3bdd065a2",
            "c1ac3190a0804533bc183049906fc655",
            "e64f0d6dbe2645f9b195cfa3d81763be",
            "fad9c31c25ca41f599497eed43b6286d",
            "53c04de2259e4ad1b6ad6163dc698f7b",
            "b96573c66e0845e9931aedcf4613795c",
            "a3a43e815d5a4918adb14c2c3801fcd0",
            "37c295b378db4d919feeeb4b595c975d",
            "3d0d66da3a8b4763accded9d0d9c3b5f",
            "db40a68c228a4fcea20f79a0f194cd9a",
            "df231100edc64b8a9483c4967f3c7cb2",
            "3776bd034271454fb9384b9102498b19",
            "543036b6a6d94eb98347301506060d2e",
            "03388e69ac7746e5925e1698724e47de",
            "089b176c84f344b58eb05643b2e3e3d4",
            "bd714dbc554d41289acc22aceaf5d0bc",
            "c9949a8dd8a84d44a4de11c028df5bb0",
            "1f7b8f3520bc4f328892d3572c360363"
          ]
        },
        "id": "K5ykFap54IWX",
        "outputId": "22ede64b-6bf9-4d05-f4b9-fcd9af572eb0"
      },
      "outputs": [
        {
          "output_type": "stream",
          "name": "stderr",
          "text": [
            "/usr/local/lib/python3.10/dist-packages/huggingface_hub/utils/_auth.py:94: UserWarning: \n",
            "The secret `HF_TOKEN` does not exist in your Colab secrets.\n",
            "To authenticate with the Hugging Face Hub, create a token in your settings tab (https://huggingface.co/settings/tokens), set it as secret in your Google Colab and restart your session.\n",
            "You will be able to reuse this secret in all of your notebooks.\n",
            "Please note that authentication is recommended but still optional to access public models or datasets.\n",
            "  warnings.warn(\n"
          ]
        },
        {
          "output_type": "display_data",
          "data": {
            "text/plain": [
              "tokenizer_config.json:   0%|          | 0.00/48.0 [00:00<?, ?B/s]"
            ],
            "application/vnd.jupyter.widget-view+json": {
              "version_major": 2,
              "version_minor": 0,
              "model_id": "91869405258c49e18a6437036bcc28ee"
            }
          },
          "metadata": {}
        },
        {
          "output_type": "display_data",
          "data": {
            "text/plain": [
              "vocab.txt:   0%|          | 0.00/232k [00:00<?, ?B/s]"
            ],
            "application/vnd.jupyter.widget-view+json": {
              "version_major": 2,
              "version_minor": 0,
              "model_id": "70f0e37ab9044aba82a1ca51e88ab702"
            }
          },
          "metadata": {}
        },
        {
          "output_type": "display_data",
          "data": {
            "text/plain": [
              "tokenizer.json:   0%|          | 0.00/466k [00:00<?, ?B/s]"
            ],
            "application/vnd.jupyter.widget-view+json": {
              "version_major": 2,
              "version_minor": 0,
              "model_id": "0b4bf3ef1a2f4317a59021af0f0a503e"
            }
          },
          "metadata": {}
        },
        {
          "output_type": "display_data",
          "data": {
            "text/plain": [
              "config.json:   0%|          | 0.00/570 [00:00<?, ?B/s]"
            ],
            "application/vnd.jupyter.widget-view+json": {
              "version_major": 2,
              "version_minor": 0,
              "model_id": "37c295b378db4d919feeeb4b595c975d"
            }
          },
          "metadata": {}
        },
        {
          "output_type": "stream",
          "name": "stdout",
          "text": [
            "Input IDs shape: torch.Size([32, 128])\n",
            "Attention Masks shape: torch.Size([32, 128])\n",
            "Labels shape: torch.Size([32])\n"
          ]
        }
      ],
      "source": [
        "import pandas as pd\n",
        "from transformers import BertTokenizer\n",
        "import torch\n",
        "from sklearn.model_selection import train_test_split\n",
        "from torch.utils.data import TensorDataset, DataLoader, RandomSampler, SequentialSampler\n",
        "\n",
        "file_path = \"/content/sofmattress_train.csv\"\n",
        "data = pd.read_csv(file_path)\n",
        "\n",
        "texts = data['sentence'].tolist()\n",
        "labels = data['label'].tolist()\n",
        "\n",
        "tokenizer = BertTokenizer.from_pretrained('bert-base-uncased')\n",
        "\n",
        "def tokenize_texts(text_list, max_length=128):\n",
        "    encoded = tokenizer(\n",
        "        text_list,\n",
        "        add_special_tokens=True,\n",
        "        max_length=max_length,\n",
        "        padding='max_length',\n",
        "        truncation=True,\n",
        "        return_attention_mask=True,\n",
        "        return_tensors='pt'\n",
        "    )\n",
        "    return encoded\n",
        "\n",
        "max_seq_length = 128\n",
        "encoded_data = tokenize_texts(texts, max_length=max_seq_length)\n",
        "\n",
        "input_ids = encoded_data['input_ids']\n",
        "attention_masks = encoded_data['attention_mask']\n",
        "\n",
        "label_map = {label: idx for idx, label in enumerate(set(labels))}\n",
        "labels_encoded = torch.tensor([label_map[label] for label in labels])\n",
        "\n",
        "train_inputs, val_inputs, train_labels, val_labels = train_test_split(\n",
        "    input_ids, labels_encoded, test_size=0.2, random_state=42\n",
        ")\n",
        "train_masks, val_masks, _, _ = train_test_split(\n",
        "    attention_masks, labels_encoded, test_size=0.2, random_state=42\n",
        ")\n",
        "\n",
        "batch_size = 32\n",
        "\n",
        "train_dataset = TensorDataset(train_inputs, train_masks, train_labels)\n",
        "val_dataset = TensorDataset(val_inputs, val_masks, val_labels)\n",
        "\n",
        "train_dataloader = DataLoader(\n",
        "    train_dataset,\n",
        "    sampler=RandomSampler(train_dataset),\n",
        "    batch_size=batch_size\n",
        ")\n",
        "val_dataloader = DataLoader(\n",
        "    val_dataset,\n",
        "    sampler=SequentialSampler(val_dataset),\n",
        "    batch_size=batch_size\n",
        ")\n",
        "\n",
        "for batch in train_dataloader:\n",
        "    print(\"Input IDs shape:\", batch[0].shape)\n",
        "    print(\"Attention Masks shape:\", batch[1].shape)\n",
        "    print(\"Labels shape:\", batch[2].shape)\n",
        "    break\n"
      ]
    },
    {
      "cell_type": "code",
      "source": [
        "BertForSequenceClassification, AdamW\n",
        "from sklearn.utils.class_weight import compute_class_weight\n",
        "from torch.nn import CrossEntropyLoss\n",
        "from tqdm import tqdm\n",
        "import torch\n",
        "import numpy as np\n",
        "from sklearn.metrics import classification_report\n",
        "\n",
        "# Check for GPU availability\n",
        "device = torch.device(\"cuda\") if torch.cuda.is_available() else torch.device(\"cpu\")\n",
        "\n",
        "# Load the model\n",
        "model = BertForSequenceClassification.from_pretrained(\n",
        "    \"bert-base-uncased\", num_labels=len(label_map)\n",
        ")\n",
        "model.to(device)\n",
        "\n",
        "# Calculate class weights to handle imbalance\n",
        "class_weights = compute_class_weight(\n",
        "    class_weight=\"balanced\", classes=np.unique(labels_encoded.numpy()), y=labels_encoded.numpy()\n",
        ")\n",
        "class_weights = torch.tensor(class_weights, dtype=torch.float).to(device)\n",
        "\n",
        "# Use weighted loss\n",
        "loss_fn = CrossEntropyLoss(weight=class_weights)\n",
        "\n",
        "# Optimizer and learning rate scheduler\n",
        "optimizer = AdamW(model.parameters(), lr=2e-5)\n",
        "\n",
        "# Define epochs and scheduler\n",
        "epochs =30\n",
        "total_training_steps = len(train_dataloader) * epochs\n",
        "scheduler = torch.optim.lr_scheduler.StepLR(optimizer, step_size=2, gamma=0.9)\n",
        "\n",
        "# Training and Validation Loop\n",
        "for epoch in range(epochs):\n",
        "    # Training phase\n",
        "    model.train()\n",
        "    total_loss = 0\n",
        "\n",
        "    for batch in tqdm(train_dataloader, desc=f\"Epoch {epoch + 1} Training\"):\n",
        "        batch_input_ids, batch_attention_mask, batch_labels = (\n",
        "            batch[0].to(device),\n",
        "            batch[1].to(device),\n",
        "            batch[2].to(device),\n",
        "        )\n",
        "\n",
        "        model.zero_grad()\n",
        "\n",
        "        outputs = model(\n",
        "            input_ids=batch_input_ids,\n",
        "            attention_mask=batch_attention_mask,\n",
        "        )\n",
        "\n",
        "        logits = outputs.logits\n",
        "        loss = loss_fn(logits, batch_labels)\n",
        "\n",
        "        total_loss += loss.item()\n",
        "\n",
        "        loss.backward()\n",
        "        optimizer.step()\n",
        "\n",
        "    avg_loss = total_loss / len(train_dataloader)\n",
        "    print(f\"Epoch {epoch + 1}: Average Training Loss = {avg_loss}\")\n",
        "\n",
        "    # Validation phase\n",
        "    model.eval()\n",
        "    val_loss = 0\n",
        "    all_preds = []\n",
        "    all_labels = []\n",
        "\n",
        "    for batch in tqdm(val_dataloader, desc=f\"Epoch {epoch + 1} Validating\"):\n",
        "        batch_input_ids, batch_attention_mask, batch_labels = (\n",
        "            batch[0].to(device),\n",
        "            batch[1].to(device),\n",
        "            batch[2].to(device),\n",
        "        )\n",
        "\n",
        "        with torch.no_grad():\n",
        "            outputs = model(\n",
        "                input_ids=batch_input_ids,\n",
        "                attention_mask=batch_attention_mask,\n",
        "            )\n",
        "\n",
        "        logits = outputs.logits\n",
        "        loss = loss_fn(logits, batch_labels)\n",
        "        val_loss += loss.item()\n",
        "\n",
        "        preds = torch.argmax(logits, dim=1).detach().cpu().numpy()\n",
        "        labels = batch_labels.detach().cpu().numpy()\n",
        "\n",
        "        all_preds.extend(preds)\n",
        "        all_labels.extend(labels)\n",
        "\n",
        "    avg_val_loss = val_loss / len(val_dataloader)\n",
        "    print(f\"Epoch {epoch + 1}: Average Validation Loss = {avg_val_loss}\")\n",
        "\n",
        "    # Learning rate scheduler step\n",
        "    scheduler.step()\n",
        "\n",
        "    # Classification report\n",
        "    print(\"Classification Report:\")\n",
        "    print(classification_report(\n",
        "        all_labels, all_preds, target_names=list(label_map.keys()))\n",
        "    )\n",
        "\n",
        "# Save the model and tokenizer\n",
        "save_directory = \"./bert_intent_model\"\n",
        "model.save_pretrained(save_directory)\n",
        "tokenizer.save_pretrained(save_directory)\n",
        "\n",
        "print(\"Model and tokenizer saved to ./bert_intent_model\")"
      ],
      "metadata": {
        "colab": {
          "base_uri": "https://localhost:8080/",
          "height": 1000,
          "referenced_widgets": [
            "eab176b1c7ef45b8b37ee512be15f6bc",
            "926ede1eed0d45b9ae6a39d42bfeba36",
            "5a7dd26e3a54483c9ba68c2f9fa66fb9",
            "7f7df57f6e57471b887c586436ef241b",
            "90bbadcd0e1c47ceb579d13d2ff0bfed",
            "5f08706b82b64d7589863da6fc23c3b2",
            "54837d0d3ebe417b889a69fbe8d7f45a",
            "538cb3782f9440f1bea0ee73cf0ccc7f",
            "7142493821ac414fbc534c8b49e101a8",
            "a939ae3c416447d2bbe87260964b103d",
            "34a7fe95bae349d38dd1899926e9efd2"
          ]
        },
        "id": "bZbUFYdRBfNR",
        "outputId": "851fdc1a-0d26-4c42-f2ec-bce6350bbac9"
      },
      "execution_count": 7,
      "outputs": [
        {
          "data": {
            "application/vnd.jupyter.widget-view+json": {
              "model_id": "eab176b1c7ef45b8b37ee512be15f6bc",
              "version_major": 2,
              "version_minor": 0
            },
            "text/plain": [
              "model.safetensors:   0%|          | 0.00/440M [00:00<?, ?B/s]"
            ]
          },
          "metadata": {},
          "output_type": "display_data"
        },
        {
          "metadata": {
            "tags": null
          },
          "name": "stderr",
          "output_type": "stream",
          "text": [
            "Some weights of BertForSequenceClassification were not initialized from the model checkpoint at bert-base-uncased and are newly initialized: ['classifier.bias', 'classifier.weight']\n",
            "You should probably TRAIN this model on a down-stream task to be able to use it for predictions and inference.\n",
            "/usr/local/lib/python3.10/dist-packages/transformers/optimization.py:591: FutureWarning: This implementation of AdamW is deprecated and will be removed in a future version. Use the PyTorch implementation torch.optim.AdamW instead, or set `no_deprecation_warning=True` to disable this warning\n",
            "  warnings.warn(\n",
            "Epoch 1 Training: 100%|██████████| 9/9 [05:51<00:00, 39.11s/it]\n"
          ]
        },
        {
          "metadata": {
            "tags": null
          },
          "name": "stdout",
          "output_type": "stream",
          "text": [
            "Epoch 1: Average Training Loss = 3.0831433137257895\n"
          ]
        },
        {
          "metadata": {
            "tags": null
          },
          "name": "stderr",
          "output_type": "stream",
          "text": [
            "Epoch 1 Validating: 100%|██████████| 3/3 [00:26<00:00,  9.00s/it]\n",
            "/usr/local/lib/python3.10/dist-packages/sklearn/metrics/_classification.py:1531: UndefinedMetricWarning: Precision is ill-defined and being set to 0.0 in labels with no predicted samples. Use `zero_division` parameter to control this behavior.\n",
            "  _warn_prf(average, modifier, f\"{metric.capitalize()} is\", len(result))\n",
            "/usr/local/lib/python3.10/dist-packages/sklearn/metrics/_classification.py:1531: UndefinedMetricWarning: Precision is ill-defined and being set to 0.0 in labels with no predicted samples. Use `zero_division` parameter to control this behavior.\n",
            "  _warn_prf(average, modifier, f\"{metric.capitalize()} is\", len(result))\n",
            "/usr/local/lib/python3.10/dist-packages/sklearn/metrics/_classification.py:1531: UndefinedMetricWarning: Precision is ill-defined and being set to 0.0 in labels with no predicted samples. Use `zero_division` parameter to control this behavior.\n",
            "  _warn_prf(average, modifier, f\"{metric.capitalize()} is\", len(result))\n"
          ]
        },
        {
          "metadata": {
            "tags": null
          },
          "name": "stdout",
          "output_type": "stream",
          "text": [
            "Epoch 1: Average Validation Loss = 3.178724447886149\n",
            "Classification Report:\n",
            "                       precision    recall  f1-score   support\n",
            "\n",
            "   ABOUT_SOF_MATTRESS       0.11      1.00      0.19         3\n",
            "                  EMI       0.00      0.00      0.00         5\n",
            "100_NIGHT_TRIAL_OFFER       0.00      0.00      0.00         4\n",
            "              PILLOWS       0.00      0.00      0.00         3\n",
            "         DISTRIBUTORS       0.00      0.00      0.00         8\n",
            "             WARRANTY       0.00      0.00      0.00         5\n",
            "         ORDER_STATUS       0.00      0.00      0.00         1\n",
            "     PRODUCT_VARIANTS       0.00      0.00      0.00         2\n",
            "   SIZE_CUSTOMIZATION       0.00      0.00      0.00         1\n",
            "         CANCEL_ORDER       0.29      1.00      0.44         2\n",
            "        CHECK_PINCODE       0.00      0.00      0.00         1\n",
            "        ERGO_FEATURES       0.00      0.00      0.00         4\n",
            "             LEAD_GEN       0.00      0.00      0.00         4\n",
            "                  COD       0.00      0.00      0.00         2\n",
            "        MATTRESS_COST       0.07      0.67      0.12         3\n",
            "           COMPARISON       0.00      0.00      0.00         1\n",
            "      RETURN_EXCHANGE       0.00      0.00      0.00         5\n",
            "       ORTHO_FEATURES       0.00      0.00      0.00         3\n",
            "   WHAT_SIZE_TO_ORDER       0.00      0.00      0.00         4\n",
            "    DELAY_IN_DELIVERY       0.00      0.00      0.00         2\n",
            "               OFFERS       0.00      0.00      0.00         3\n",
            "\n",
            "             accuracy                           0.11        66\n",
            "            macro avg       0.02      0.13      0.04        66\n",
            "         weighted avg       0.02      0.11      0.03        66\n",
            "\n"
          ]
        },
        {
          "metadata": {
            "tags": null
          },
          "name": "stderr",
          "output_type": "stream",
          "text": [
            "Epoch 2 Training: 100%|██████████| 9/9 [05:49<00:00, 38.85s/it]\n"
          ]
        },
        {
          "metadata": {
            "tags": null
          },
          "name": "stdout",
          "output_type": "stream",
          "text": [
            "Epoch 2: Average Training Loss = 2.9979774951934814\n"
          ]
        },
        {
          "metadata": {
            "tags": null
          },
          "name": "stderr",
          "output_type": "stream",
          "text": [
            "Epoch 2 Validating: 100%|██████████| 3/3 [00:27<00:00,  9.14s/it]\n",
            "/usr/local/lib/python3.10/dist-packages/sklearn/metrics/_classification.py:1531: UndefinedMetricWarning: Precision is ill-defined and being set to 0.0 in labels with no predicted samples. Use `zero_division` parameter to control this behavior.\n",
            "  _warn_prf(average, modifier, f\"{metric.capitalize()} is\", len(result))\n",
            "/usr/local/lib/python3.10/dist-packages/sklearn/metrics/_classification.py:1531: UndefinedMetricWarning: Precision is ill-defined and being set to 0.0 in labels with no predicted samples. Use `zero_division` parameter to control this behavior.\n",
            "  _warn_prf(average, modifier, f\"{metric.capitalize()} is\", len(result))\n",
            "/usr/local/lib/python3.10/dist-packages/sklearn/metrics/_classification.py:1531: UndefinedMetricWarning: Precision is ill-defined and being set to 0.0 in labels with no predicted samples. Use `zero_division` parameter to control this behavior.\n",
            "  _warn_prf(average, modifier, f\"{metric.capitalize()} is\", len(result))\n"
          ]
        },
        {
          "metadata": {
            "tags": null
          },
          "name": "stdout",
          "output_type": "stream",
          "text": [
            "Epoch 2: Average Validation Loss = 3.086444695790609\n",
            "Classification Report:\n",
            "                       precision    recall  f1-score   support\n",
            "\n",
            "   ABOUT_SOF_MATTRESS       0.06      1.00      0.12         3\n",
            "                  EMI       0.00      0.00      0.00         5\n",
            "100_NIGHT_TRIAL_OFFER       0.00      0.00      0.00         4\n",
            "              PILLOWS       0.00      0.00      0.00         3\n",
            "         DISTRIBUTORS       0.00      0.00      0.00         8\n",
            "             WARRANTY       0.00      0.00      0.00         5\n",
            "         ORDER_STATUS       0.00      0.00      0.00         1\n",
            "     PRODUCT_VARIANTS       0.00      0.00      0.00         2\n",
            "   SIZE_CUSTOMIZATION       0.00      0.00      0.00         1\n",
            "         CANCEL_ORDER       0.25      0.50      0.33         2\n",
            "        CHECK_PINCODE       0.00      0.00      0.00         1\n",
            "        ERGO_FEATURES       0.00      0.00      0.00         4\n",
            "             LEAD_GEN       0.00      0.00      0.00         4\n",
            "                  COD       0.00      0.00      0.00         2\n",
            "        MATTRESS_COST       0.08      0.33      0.13         3\n",
            "           COMPARISON       0.00      0.00      0.00         1\n",
            "      RETURN_EXCHANGE       0.00      0.00      0.00         5\n",
            "       ORTHO_FEATURES       0.00      0.00      0.00         3\n",
            "   WHAT_SIZE_TO_ORDER       0.00      0.00      0.00         4\n",
            "    DELAY_IN_DELIVERY       0.00      0.00      0.00         2\n",
            "               OFFERS       0.00      0.00      0.00         3\n",
            "\n",
            "             accuracy                           0.08        66\n",
            "            macro avg       0.02      0.09      0.03        66\n",
            "         weighted avg       0.01      0.08      0.02        66\n",
            "\n"
          ]
        },
        {
          "metadata": {
            "tags": null
          },
          "name": "stderr",
          "output_type": "stream",
          "text": [
            "Epoch 3 Training: 100%|██████████| 9/9 [05:42<00:00, 38.11s/it]\n"
          ]
        },
        {
          "metadata": {
            "tags": null
          },
          "name": "stdout",
          "output_type": "stream",
          "text": [
            "Epoch 3: Average Training Loss = 2.8870654106140137\n"
          ]
        },
        {
          "metadata": {
            "tags": null
          },
          "name": "stderr",
          "output_type": "stream",
          "text": [
            "Epoch 3 Validating: 100%|██████████| 3/3 [00:26<00:00,  8.80s/it]\n",
            "/usr/local/lib/python3.10/dist-packages/sklearn/metrics/_classification.py:1531: UndefinedMetricWarning: Precision is ill-defined and being set to 0.0 in labels with no predicted samples. Use `zero_division` parameter to control this behavior.\n",
            "  _warn_prf(average, modifier, f\"{metric.capitalize()} is\", len(result))\n",
            "/usr/local/lib/python3.10/dist-packages/sklearn/metrics/_classification.py:1531: UndefinedMetricWarning: Precision is ill-defined and being set to 0.0 in labels with no predicted samples. Use `zero_division` parameter to control this behavior.\n",
            "  _warn_prf(average, modifier, f\"{metric.capitalize()} is\", len(result))\n",
            "/usr/local/lib/python3.10/dist-packages/sklearn/metrics/_classification.py:1531: UndefinedMetricWarning: Precision is ill-defined and being set to 0.0 in labels with no predicted samples. Use `zero_division` parameter to control this behavior.\n",
            "  _warn_prf(average, modifier, f\"{metric.capitalize()} is\", len(result))\n"
          ]
        },
        {
          "metadata": {
            "tags": null
          },
          "name": "stdout",
          "output_type": "stream",
          "text": [
            "Epoch 3: Average Validation Loss = 2.963066895802816\n",
            "Classification Report:\n",
            "                       precision    recall  f1-score   support\n",
            "\n",
            "   ABOUT_SOF_MATTRESS       0.10      1.00      0.19         3\n",
            "                  EMI       0.00      0.00      0.00         5\n",
            "100_NIGHT_TRIAL_OFFER       0.00      0.00      0.00         4\n",
            "              PILLOWS       0.00      0.00      0.00         3\n",
            "         DISTRIBUTORS       0.00      0.00      0.00         8\n",
            "             WARRANTY       0.00      0.00      0.00         5\n",
            "         ORDER_STATUS       0.00      0.00      0.00         1\n",
            "     PRODUCT_VARIANTS       0.00      0.00      0.00         2\n",
            "   SIZE_CUSTOMIZATION       0.00      0.00      0.00         1\n",
            "         CANCEL_ORDER       0.12      1.00      0.22         2\n",
            "        CHECK_PINCODE       0.00      0.00      0.00         1\n",
            "        ERGO_FEATURES       0.00      0.00      0.00         4\n",
            "             LEAD_GEN       0.00      0.00      0.00         4\n",
            "                  COD       0.00      0.00      0.00         2\n",
            "        MATTRESS_COST       0.50      0.33      0.40         3\n",
            "           COMPARISON       0.20      1.00      0.33         1\n",
            "      RETURN_EXCHANGE       0.12      0.20      0.15         5\n",
            "       ORTHO_FEATURES       0.00      0.00      0.00         3\n",
            "   WHAT_SIZE_TO_ORDER       0.00      0.00      0.00         4\n",
            "    DELAY_IN_DELIVERY       0.00      0.00      0.00         2\n",
            "               OFFERS       0.00      0.00      0.00         3\n",
            "\n",
            "             accuracy                           0.12        66\n",
            "            macro avg       0.05      0.17      0.06        66\n",
            "         weighted avg       0.04      0.12      0.05        66\n",
            "\n"
          ]
        },
        {
          "metadata": {
            "tags": null
          },
          "name": "stderr",
          "output_type": "stream",
          "text": [
            "Epoch 4 Training: 100%|██████████| 9/9 [05:43<00:00, 38.22s/it]\n"
          ]
        },
        {
          "metadata": {
            "tags": null
          },
          "name": "stdout",
          "output_type": "stream",
          "text": [
            "Epoch 4: Average Training Loss = 2.8114502694871693\n"
          ]
        },
        {
          "metadata": {
            "tags": null
          },
          "name": "stderr",
          "output_type": "stream",
          "text": [
            "Epoch 4 Validating: 100%|██████████| 3/3 [00:27<00:00,  9.21s/it]\n",
            "/usr/local/lib/python3.10/dist-packages/sklearn/metrics/_classification.py:1531: UndefinedMetricWarning: Precision is ill-defined and being set to 0.0 in labels with no predicted samples. Use `zero_division` parameter to control this behavior.\n",
            "  _warn_prf(average, modifier, f\"{metric.capitalize()} is\", len(result))\n",
            "/usr/local/lib/python3.10/dist-packages/sklearn/metrics/_classification.py:1531: UndefinedMetricWarning: Precision is ill-defined and being set to 0.0 in labels with no predicted samples. Use `zero_division` parameter to control this behavior.\n",
            "  _warn_prf(average, modifier, f\"{metric.capitalize()} is\", len(result))\n",
            "/usr/local/lib/python3.10/dist-packages/sklearn/metrics/_classification.py:1531: UndefinedMetricWarning: Precision is ill-defined and being set to 0.0 in labels with no predicted samples. Use `zero_division` parameter to control this behavior.\n",
            "  _warn_prf(average, modifier, f\"{metric.capitalize()} is\", len(result))\n"
          ]
        },
        {
          "metadata": {
            "tags": null
          },
          "name": "stdout",
          "output_type": "stream",
          "text": [
            "Epoch 4: Average Validation Loss = 2.852728525797526\n",
            "Classification Report:\n",
            "                       precision    recall  f1-score   support\n",
            "\n",
            "   ABOUT_SOF_MATTRESS       0.14      1.00      0.25         3\n",
            "                  EMI       0.00      0.00      0.00         5\n",
            "100_NIGHT_TRIAL_OFFER       0.00      0.00      0.00         4\n",
            "              PILLOWS       0.00      0.00      0.00         3\n",
            "         DISTRIBUTORS       1.00      0.12      0.22         8\n",
            "             WARRANTY       0.00      0.00      0.00         5\n",
            "         ORDER_STATUS       0.00      0.00      0.00         1\n",
            "     PRODUCT_VARIANTS       0.08      1.00      0.14         2\n",
            "   SIZE_CUSTOMIZATION       0.00      0.00      0.00         1\n",
            "         CANCEL_ORDER       0.50      1.00      0.67         2\n",
            "        CHECK_PINCODE       0.00      0.00      0.00         1\n",
            "        ERGO_FEATURES       0.00      0.00      0.00         4\n",
            "             LEAD_GEN       0.00      0.00      0.00         4\n",
            "                  COD       0.00      0.00      0.00         2\n",
            "        MATTRESS_COST       0.00      0.00      0.00         3\n",
            "           COMPARISON       0.00      0.00      0.00         1\n",
            "      RETURN_EXCHANGE       0.20      0.40      0.27         5\n",
            "       ORTHO_FEATURES       0.00      0.00      0.00         3\n",
            "   WHAT_SIZE_TO_ORDER       0.00      0.00      0.00         4\n",
            "    DELAY_IN_DELIVERY       0.00      0.00      0.00         2\n",
            "               OFFERS       0.00      0.00      0.00         3\n",
            "\n",
            "             accuracy                           0.15        66\n",
            "            macro avg       0.09      0.17      0.07        66\n",
            "         weighted avg       0.16      0.15      0.08        66\n",
            "\n"
          ]
        },
        {
          "metadata": {
            "tags": null
          },
          "name": "stderr",
          "output_type": "stream",
          "text": [
            "Epoch 5 Training: 100%|██████████| 9/9 [05:44<00:00, 38.27s/it]\n"
          ]
        },
        {
          "metadata": {
            "tags": null
          },
          "name": "stdout",
          "output_type": "stream",
          "text": [
            "Epoch 5: Average Training Loss = 2.6640518771277533\n"
          ]
        },
        {
          "metadata": {
            "tags": null
          },
          "name": "stderr",
          "output_type": "stream",
          "text": [
            "Epoch 5 Validating: 100%|██████████| 3/3 [00:27<00:00,  9.19s/it]\n",
            "/usr/local/lib/python3.10/dist-packages/sklearn/metrics/_classification.py:1531: UndefinedMetricWarning: Precision is ill-defined and being set to 0.0 in labels with no predicted samples. Use `zero_division` parameter to control this behavior.\n",
            "  _warn_prf(average, modifier, f\"{metric.capitalize()} is\", len(result))\n",
            "/usr/local/lib/python3.10/dist-packages/sklearn/metrics/_classification.py:1531: UndefinedMetricWarning: Precision is ill-defined and being set to 0.0 in labels with no predicted samples. Use `zero_division` parameter to control this behavior.\n",
            "  _warn_prf(average, modifier, f\"{metric.capitalize()} is\", len(result))\n",
            "/usr/local/lib/python3.10/dist-packages/sklearn/metrics/_classification.py:1531: UndefinedMetricWarning: Precision is ill-defined and being set to 0.0 in labels with no predicted samples. Use `zero_division` parameter to control this behavior.\n",
            "  _warn_prf(average, modifier, f\"{metric.capitalize()} is\", len(result))\n"
          ]
        },
        {
          "metadata": {
            "tags": null
          },
          "name": "stdout",
          "output_type": "stream",
          "text": [
            "Epoch 5: Average Validation Loss = 2.9516767660776773\n",
            "Classification Report:\n",
            "                       precision    recall  f1-score   support\n",
            "\n",
            "   ABOUT_SOF_MATTRESS       0.16      1.00      0.27         3\n",
            "                  EMI       0.00      0.00      0.00         5\n",
            "100_NIGHT_TRIAL_OFFER       0.00      0.00      0.00         4\n",
            "              PILLOWS       0.00      0.00      0.00         3\n",
            "         DISTRIBUTORS       1.00      0.12      0.22         8\n",
            "             WARRANTY       0.00      0.00      0.00         5\n",
            "         ORDER_STATUS       0.00      0.00      0.00         1\n",
            "     PRODUCT_VARIANTS       0.11      0.50      0.18         2\n",
            "   SIZE_CUSTOMIZATION       0.00      0.00      0.00         1\n",
            "         CANCEL_ORDER       0.14      1.00      0.25         2\n",
            "        CHECK_PINCODE       0.00      0.00      0.00         1\n",
            "        ERGO_FEATURES       0.00      0.00      0.00         4\n",
            "             LEAD_GEN       0.50      0.25      0.33         4\n",
            "                  COD       0.50      1.00      0.67         2\n",
            "        MATTRESS_COST       0.50      0.33      0.40         3\n",
            "           COMPARISON       0.11      1.00      0.20         1\n",
            "      RETURN_EXCHANGE       0.25      0.20      0.22         5\n",
            "       ORTHO_FEATURES       1.00      0.33      0.50         3\n",
            "   WHAT_SIZE_TO_ORDER       0.00      0.00      0.00         4\n",
            "    DELAY_IN_DELIVERY       0.00      0.00      0.00         2\n",
            "               OFFERS       0.00      0.00      0.00         3\n",
            "\n",
            "             accuracy                           0.21        66\n",
            "            macro avg       0.20      0.27      0.15        66\n",
            "         weighted avg       0.27      0.21      0.15        66\n",
            "\n"
          ]
        },
        {
          "metadata": {
            "tags": null
          },
          "name": "stderr",
          "output_type": "stream",
          "text": [
            "Epoch 6 Training: 100%|██████████| 9/9 [05:41<00:00, 37.98s/it]\n"
          ]
        },
        {
          "metadata": {
            "tags": null
          },
          "name": "stdout",
          "output_type": "stream",
          "text": [
            "Epoch 6: Average Training Loss = 2.5679040220048694\n"
          ]
        },
        {
          "metadata": {
            "tags": null
          },
          "name": "stderr",
          "output_type": "stream",
          "text": [
            "Epoch 6 Validating: 100%|██████████| 3/3 [00:27<00:00,  9.14s/it]\n",
            "/usr/local/lib/python3.10/dist-packages/sklearn/metrics/_classification.py:1531: UndefinedMetricWarning: Precision is ill-defined and being set to 0.0 in labels with no predicted samples. Use `zero_division` parameter to control this behavior.\n",
            "  _warn_prf(average, modifier, f\"{metric.capitalize()} is\", len(result))\n",
            "/usr/local/lib/python3.10/dist-packages/sklearn/metrics/_classification.py:1531: UndefinedMetricWarning: Precision is ill-defined and being set to 0.0 in labels with no predicted samples. Use `zero_division` parameter to control this behavior.\n",
            "  _warn_prf(average, modifier, f\"{metric.capitalize()} is\", len(result))\n",
            "/usr/local/lib/python3.10/dist-packages/sklearn/metrics/_classification.py:1531: UndefinedMetricWarning: Precision is ill-defined and being set to 0.0 in labels with no predicted samples. Use `zero_division` parameter to control this behavior.\n",
            "  _warn_prf(average, modifier, f\"{metric.capitalize()} is\", len(result))\n"
          ]
        },
        {
          "metadata": {
            "tags": null
          },
          "name": "stdout",
          "output_type": "stream",
          "text": [
            "Epoch 6: Average Validation Loss = 2.7666921615600586\n",
            "Classification Report:\n",
            "                       precision    recall  f1-score   support\n",
            "\n",
            "   ABOUT_SOF_MATTRESS       0.25      1.00      0.40         3\n",
            "                  EMI       0.00      0.00      0.00         5\n",
            "100_NIGHT_TRIAL_OFFER       0.00      0.00      0.00         4\n",
            "              PILLOWS       0.00      0.00      0.00         3\n",
            "         DISTRIBUTORS       0.50      0.25      0.33         8\n",
            "             WARRANTY       0.00      0.00      0.00         5\n",
            "         ORDER_STATUS       0.00      0.00      0.00         1\n",
            "     PRODUCT_VARIANTS       0.05      0.50      0.08         2\n",
            "   SIZE_CUSTOMIZATION       0.00      0.00      0.00         1\n",
            "         CANCEL_ORDER       0.20      1.00      0.33         2\n",
            "        CHECK_PINCODE       0.00      0.00      0.00         1\n",
            "        ERGO_FEATURES       0.00      0.00      0.00         4\n",
            "             LEAD_GEN       0.40      0.50      0.44         4\n",
            "                  COD       1.00      0.50      0.67         2\n",
            "        MATTRESS_COST       1.00      0.33      0.50         3\n",
            "           COMPARISON       0.50      1.00      0.67         1\n",
            "      RETURN_EXCHANGE       0.29      0.40      0.33         5\n",
            "       ORTHO_FEATURES       1.00      0.33      0.50         3\n",
            "   WHAT_SIZE_TO_ORDER       0.00      0.00      0.00         4\n",
            "    DELAY_IN_DELIVERY       0.00      0.00      0.00         2\n",
            "               OFFERS       0.00      0.00      0.00         3\n",
            "\n",
            "             accuracy                           0.24        66\n",
            "            macro avg       0.25      0.28      0.20        66\n",
            "         weighted avg       0.25      0.24      0.20        66\n",
            "\n"
          ]
        },
        {
          "metadata": {
            "tags": null
          },
          "name": "stderr",
          "output_type": "stream",
          "text": [
            "Epoch 7 Training: 100%|██████████| 9/9 [05:47<00:00, 38.67s/it]\n"
          ]
        },
        {
          "metadata": {
            "tags": null
          },
          "name": "stdout",
          "output_type": "stream",
          "text": [
            "Epoch 7: Average Training Loss = 2.4573945469326444\n"
          ]
        },
        {
          "metadata": {
            "tags": null
          },
          "name": "stderr",
          "output_type": "stream",
          "text": [
            "Epoch 7 Validating: 100%|██████████| 3/3 [00:27<00:00,  9.29s/it]\n",
            "/usr/local/lib/python3.10/dist-packages/sklearn/metrics/_classification.py:1531: UndefinedMetricWarning: Precision is ill-defined and being set to 0.0 in labels with no predicted samples. Use `zero_division` parameter to control this behavior.\n",
            "  _warn_prf(average, modifier, f\"{metric.capitalize()} is\", len(result))\n",
            "/usr/local/lib/python3.10/dist-packages/sklearn/metrics/_classification.py:1531: UndefinedMetricWarning: Precision is ill-defined and being set to 0.0 in labels with no predicted samples. Use `zero_division` parameter to control this behavior.\n",
            "  _warn_prf(average, modifier, f\"{metric.capitalize()} is\", len(result))\n",
            "/usr/local/lib/python3.10/dist-packages/sklearn/metrics/_classification.py:1531: UndefinedMetricWarning: Precision is ill-defined and being set to 0.0 in labels with no predicted samples. Use `zero_division` parameter to control this behavior.\n",
            "  _warn_prf(average, modifier, f\"{metric.capitalize()} is\", len(result))\n"
          ]
        },
        {
          "metadata": {
            "tags": null
          },
          "name": "stdout",
          "output_type": "stream",
          "text": [
            "Epoch 7: Average Validation Loss = 2.7135232289632163\n",
            "Classification Report:\n",
            "                       precision    recall  f1-score   support\n",
            "\n",
            "   ABOUT_SOF_MATTRESS       0.21      1.00      0.35         3\n",
            "                  EMI       1.00      0.20      0.33         5\n",
            "100_NIGHT_TRIAL_OFFER       1.00      0.50      0.67         4\n",
            "              PILLOWS       0.00      0.00      0.00         3\n",
            "         DISTRIBUTORS       0.50      0.50      0.50         8\n",
            "             WARRANTY       0.00      0.00      0.00         5\n",
            "         ORDER_STATUS       0.00      0.00      0.00         1\n",
            "     PRODUCT_VARIANTS       0.07      0.50      0.12         2\n",
            "   SIZE_CUSTOMIZATION       0.00      0.00      0.00         1\n",
            "         CANCEL_ORDER       0.33      1.00      0.50         2\n",
            "        CHECK_PINCODE       0.00      0.00      0.00         1\n",
            "        ERGO_FEATURES       0.00      0.00      0.00         4\n",
            "             LEAD_GEN       0.50      0.75      0.60         4\n",
            "                  COD       0.50      1.00      0.67         2\n",
            "        MATTRESS_COST       1.00      0.33      0.50         3\n",
            "           COMPARISON       0.25      1.00      0.40         1\n",
            "      RETURN_EXCHANGE       0.50      0.40      0.44         5\n",
            "       ORTHO_FEATURES       1.00      0.33      0.50         3\n",
            "   WHAT_SIZE_TO_ORDER       0.00      0.00      0.00         4\n",
            "    DELAY_IN_DELIVERY       0.00      0.00      0.00         2\n",
            "               OFFERS       0.00      0.00      0.00         3\n",
            "\n",
            "             accuracy                           0.35        66\n",
            "            macro avg       0.33      0.36      0.27        66\n",
            "         weighted avg       0.40      0.35      0.30        66\n",
            "\n"
          ]
        },
        {
          "metadata": {
            "tags": null
          },
          "name": "stderr",
          "output_type": "stream",
          "text": [
            "Epoch 8 Training: 100%|██████████| 9/9 [05:41<00:00, 37.97s/it]\n"
          ]
        },
        {
          "metadata": {
            "tags": null
          },
          "name": "stdout",
          "output_type": "stream",
          "text": [
            "Epoch 8: Average Training Loss = 2.3515608575608997\n"
          ]
        },
        {
          "metadata": {
            "tags": null
          },
          "name": "stderr",
          "output_type": "stream",
          "text": [
            "Epoch 8 Validating: 100%|██████████| 3/3 [00:27<00:00,  9.09s/it]\n",
            "/usr/local/lib/python3.10/dist-packages/sklearn/metrics/_classification.py:1531: UndefinedMetricWarning: Precision is ill-defined and being set to 0.0 in labels with no predicted samples. Use `zero_division` parameter to control this behavior.\n",
            "  _warn_prf(average, modifier, f\"{metric.capitalize()} is\", len(result))\n",
            "/usr/local/lib/python3.10/dist-packages/sklearn/metrics/_classification.py:1531: UndefinedMetricWarning: Precision is ill-defined and being set to 0.0 in labels with no predicted samples. Use `zero_division` parameter to control this behavior.\n",
            "  _warn_prf(average, modifier, f\"{metric.capitalize()} is\", len(result))\n",
            "/usr/local/lib/python3.10/dist-packages/sklearn/metrics/_classification.py:1531: UndefinedMetricWarning: Precision is ill-defined and being set to 0.0 in labels with no predicted samples. Use `zero_division` parameter to control this behavior.\n",
            "  _warn_prf(average, modifier, f\"{metric.capitalize()} is\", len(result))\n"
          ]
        },
        {
          "metadata": {
            "tags": null
          },
          "name": "stdout",
          "output_type": "stream",
          "text": [
            "Epoch 8: Average Validation Loss = 2.593763589859009\n",
            "Classification Report:\n",
            "                       precision    recall  f1-score   support\n",
            "\n",
            "   ABOUT_SOF_MATTRESS       0.38      1.00      0.55         3\n",
            "                  EMI       1.00      0.40      0.57         5\n",
            "100_NIGHT_TRIAL_OFFER       1.00      0.50      0.67         4\n",
            "              PILLOWS       1.00      0.33      0.50         3\n",
            "         DISTRIBUTORS       0.67      0.25      0.36         8\n",
            "             WARRANTY       0.00      0.00      0.00         5\n",
            "         ORDER_STATUS       0.00      0.00      0.00         1\n",
            "     PRODUCT_VARIANTS       0.13      1.00      0.24         2\n",
            "   SIZE_CUSTOMIZATION       0.00      0.00      0.00         1\n",
            "         CANCEL_ORDER       0.67      1.00      0.80         2\n",
            "        CHECK_PINCODE       1.00      1.00      1.00         1\n",
            "        ERGO_FEATURES       1.00      0.50      0.67         4\n",
            "             LEAD_GEN       0.38      0.75      0.50         4\n",
            "                  COD       0.33      1.00      0.50         2\n",
            "        MATTRESS_COST       1.00      0.67      0.80         3\n",
            "           COMPARISON       0.20      1.00      0.33         1\n",
            "      RETURN_EXCHANGE       0.50      0.60      0.55         5\n",
            "       ORTHO_FEATURES       1.00      0.67      0.80         3\n",
            "   WHAT_SIZE_TO_ORDER       0.00      0.00      0.00         4\n",
            "    DELAY_IN_DELIVERY       0.00      0.00      0.00         2\n",
            "               OFFERS       0.00      0.00      0.00         3\n",
            "\n",
            "             accuracy                           0.45        66\n",
            "            macro avg       0.49      0.51      0.42        66\n",
            "         weighted avg       0.54      0.45      0.43        66\n",
            "\n"
          ]
        },
        {
          "metadata": {
            "tags": null
          },
          "name": "stderr",
          "output_type": "stream",
          "text": [
            "Epoch 9 Training: 100%|██████████| 9/9 [05:42<00:00, 38.04s/it]\n"
          ]
        },
        {
          "metadata": {
            "tags": null
          },
          "name": "stdout",
          "output_type": "stream",
          "text": [
            "Epoch 9: Average Training Loss = 2.2843137317233615\n"
          ]
        },
        {
          "metadata": {
            "tags": null
          },
          "name": "stderr",
          "output_type": "stream",
          "text": [
            "Epoch 9 Validating: 100%|██████████| 3/3 [00:28<00:00,  9.58s/it]\n",
            "/usr/local/lib/python3.10/dist-packages/sklearn/metrics/_classification.py:1531: UndefinedMetricWarning: Precision is ill-defined and being set to 0.0 in labels with no predicted samples. Use `zero_division` parameter to control this behavior.\n",
            "  _warn_prf(average, modifier, f\"{metric.capitalize()} is\", len(result))\n",
            "/usr/local/lib/python3.10/dist-packages/sklearn/metrics/_classification.py:1531: UndefinedMetricWarning: Precision is ill-defined and being set to 0.0 in labels with no predicted samples. Use `zero_division` parameter to control this behavior.\n",
            "  _warn_prf(average, modifier, f\"{metric.capitalize()} is\", len(result))\n",
            "/usr/local/lib/python3.10/dist-packages/sklearn/metrics/_classification.py:1531: UndefinedMetricWarning: Precision is ill-defined and being set to 0.0 in labels with no predicted samples. Use `zero_division` parameter to control this behavior.\n",
            "  _warn_prf(average, modifier, f\"{metric.capitalize()} is\", len(result))\n"
          ]
        },
        {
          "metadata": {
            "tags": null
          },
          "name": "stdout",
          "output_type": "stream",
          "text": [
            "Epoch 9: Average Validation Loss = 2.530833880106608\n",
            "Classification Report:\n",
            "                       precision    recall  f1-score   support\n",
            "\n",
            "   ABOUT_SOF_MATTRESS       0.75      1.00      0.86         3\n",
            "                  EMI       1.00      0.40      0.57         5\n",
            "100_NIGHT_TRIAL_OFFER       1.00      0.50      0.67         4\n",
            "              PILLOWS       1.00      0.33      0.50         3\n",
            "         DISTRIBUTORS       0.67      0.75      0.71         8\n",
            "             WARRANTY       0.00      0.00      0.00         5\n",
            "         ORDER_STATUS       1.00      1.00      1.00         1\n",
            "     PRODUCT_VARIANTS       0.17      1.00      0.29         2\n",
            "   SIZE_CUSTOMIZATION       0.00      0.00      0.00         1\n",
            "         CANCEL_ORDER       0.40      1.00      0.57         2\n",
            "        CHECK_PINCODE       1.00      1.00      1.00         1\n",
            "        ERGO_FEATURES       1.00      0.50      0.67         4\n",
            "             LEAD_GEN       0.20      0.25      0.22         4\n",
            "                  COD       0.33      1.00      0.50         2\n",
            "        MATTRESS_COST       0.67      0.67      0.67         3\n",
            "           COMPARISON       0.25      1.00      0.40         1\n",
            "      RETURN_EXCHANGE       0.40      0.40      0.40         5\n",
            "       ORTHO_FEATURES       0.67      0.67      0.67         3\n",
            "   WHAT_SIZE_TO_ORDER       0.00      0.00      0.00         4\n",
            "    DELAY_IN_DELIVERY       0.00      0.00      0.00         2\n",
            "               OFFERS       1.00      0.33      0.50         3\n",
            "\n",
            "             accuracy                           0.50        66\n",
            "            macro avg       0.55      0.56      0.48        66\n",
            "         weighted avg       0.57      0.50      0.48        66\n",
            "\n"
          ]
        },
        {
          "metadata": {
            "tags": null
          },
          "name": "stderr",
          "output_type": "stream",
          "text": [
            "Epoch 10 Training: 100%|██████████| 9/9 [05:44<00:00, 38.29s/it]\n"
          ]
        },
        {
          "metadata": {
            "tags": null
          },
          "name": "stdout",
          "output_type": "stream",
          "text": [
            "Epoch 10: Average Training Loss = 2.1525237295362682\n"
          ]
        },
        {
          "metadata": {
            "tags": null
          },
          "name": "stderr",
          "output_type": "stream",
          "text": [
            "Epoch 10 Validating: 100%|██████████| 3/3 [00:26<00:00,  8.95s/it]\n",
            "/usr/local/lib/python3.10/dist-packages/sklearn/metrics/_classification.py:1531: UndefinedMetricWarning: Precision is ill-defined and being set to 0.0 in labels with no predicted samples. Use `zero_division` parameter to control this behavior.\n",
            "  _warn_prf(average, modifier, f\"{metric.capitalize()} is\", len(result))\n",
            "/usr/local/lib/python3.10/dist-packages/sklearn/metrics/_classification.py:1531: UndefinedMetricWarning: Precision is ill-defined and being set to 0.0 in labels with no predicted samples. Use `zero_division` parameter to control this behavior.\n",
            "  _warn_prf(average, modifier, f\"{metric.capitalize()} is\", len(result))\n",
            "/usr/local/lib/python3.10/dist-packages/sklearn/metrics/_classification.py:1531: UndefinedMetricWarning: Precision is ill-defined and being set to 0.0 in labels with no predicted samples. Use `zero_division` parameter to control this behavior.\n",
            "  _warn_prf(average, modifier, f\"{metric.capitalize()} is\", len(result))\n"
          ]
        },
        {
          "metadata": {
            "tags": null
          },
          "name": "stdout",
          "output_type": "stream",
          "text": [
            "Epoch 10: Average Validation Loss = 2.4307050704956055\n",
            "Classification Report:\n",
            "                       precision    recall  f1-score   support\n",
            "\n",
            "   ABOUT_SOF_MATTRESS       0.75      1.00      0.86         3\n",
            "                  EMI       0.50      0.40      0.44         5\n",
            "100_NIGHT_TRIAL_OFFER       1.00      0.50      0.67         4\n",
            "              PILLOWS       1.00      0.67      0.80         3\n",
            "         DISTRIBUTORS       1.00      0.25      0.40         8\n",
            "             WARRANTY       0.00      0.00      0.00         5\n",
            "         ORDER_STATUS       1.00      1.00      1.00         1\n",
            "     PRODUCT_VARIANTS       0.13      1.00      0.24         2\n",
            "   SIZE_CUSTOMIZATION       1.00      1.00      1.00         1\n",
            "         CANCEL_ORDER       0.50      1.00      0.67         2\n",
            "        CHECK_PINCODE       1.00      1.00      1.00         1\n",
            "        ERGO_FEATURES       1.00      0.50      0.67         4\n",
            "             LEAD_GEN       0.40      0.50      0.44         4\n",
            "                  COD       0.12      0.50      0.20         2\n",
            "        MATTRESS_COST       0.67      0.67      0.67         3\n",
            "           COMPARISON       1.00      1.00      1.00         1\n",
            "      RETURN_EXCHANGE       0.57      0.80      0.67         5\n",
            "       ORTHO_FEATURES       0.75      1.00      0.86         3\n",
            "   WHAT_SIZE_TO_ORDER       0.00      0.00      0.00         4\n",
            "    DELAY_IN_DELIVERY       0.00      0.00      0.00         2\n",
            "               OFFERS       0.00      0.00      0.00         3\n",
            "\n",
            "             accuracy                           0.50        66\n",
            "            macro avg       0.59      0.61      0.55        66\n",
            "         weighted avg       0.58      0.50      0.48        66\n",
            "\n"
          ]
        },
        {
          "metadata": {
            "tags": null
          },
          "name": "stderr",
          "output_type": "stream",
          "text": [
            "Epoch 11 Training: 100%|██████████| 9/9 [05:41<00:00, 37.93s/it]\n"
          ]
        },
        {
          "metadata": {
            "tags": null
          },
          "name": "stdout",
          "output_type": "stream",
          "text": [
            "Epoch 11: Average Training Loss = 2.0759835243225098\n"
          ]
        },
        {
          "metadata": {
            "tags": null
          },
          "name": "stderr",
          "output_type": "stream",
          "text": [
            "Epoch 11 Validating: 100%|██████████| 3/3 [00:27<00:00,  9.09s/it]\n",
            "/usr/local/lib/python3.10/dist-packages/sklearn/metrics/_classification.py:1531: UndefinedMetricWarning: Precision is ill-defined and being set to 0.0 in labels with no predicted samples. Use `zero_division` parameter to control this behavior.\n",
            "  _warn_prf(average, modifier, f\"{metric.capitalize()} is\", len(result))\n",
            "/usr/local/lib/python3.10/dist-packages/sklearn/metrics/_classification.py:1531: UndefinedMetricWarning: Precision is ill-defined and being set to 0.0 in labels with no predicted samples. Use `zero_division` parameter to control this behavior.\n",
            "  _warn_prf(average, modifier, f\"{metric.capitalize()} is\", len(result))\n",
            "/usr/local/lib/python3.10/dist-packages/sklearn/metrics/_classification.py:1531: UndefinedMetricWarning: Precision is ill-defined and being set to 0.0 in labels with no predicted samples. Use `zero_division` parameter to control this behavior.\n",
            "  _warn_prf(average, modifier, f\"{metric.capitalize()} is\", len(result))\n"
          ]
        },
        {
          "metadata": {
            "tags": null
          },
          "name": "stdout",
          "output_type": "stream",
          "text": [
            "Epoch 11: Average Validation Loss = 2.4304139614105225\n",
            "Classification Report:\n",
            "                       precision    recall  f1-score   support\n",
            "\n",
            "   ABOUT_SOF_MATTRESS       0.75      1.00      0.86         3\n",
            "                  EMI       1.00      0.40      0.57         5\n",
            "100_NIGHT_TRIAL_OFFER       1.00      0.50      0.67         4\n",
            "              PILLOWS       1.00      0.67      0.80         3\n",
            "         DISTRIBUTORS       0.75      0.75      0.75         8\n",
            "             WARRANTY       0.00      0.00      0.00         5\n",
            "         ORDER_STATUS       0.50      1.00      0.67         1\n",
            "     PRODUCT_VARIANTS       0.12      0.50      0.20         2\n",
            "   SIZE_CUSTOMIZATION       0.50      1.00      0.67         1\n",
            "         CANCEL_ORDER       0.50      1.00      0.67         2\n",
            "        CHECK_PINCODE       1.00      1.00      1.00         1\n",
            "        ERGO_FEATURES       1.00      0.50      0.67         4\n",
            "             LEAD_GEN       0.43      0.75      0.55         4\n",
            "                  COD       0.14      0.50      0.22         2\n",
            "        MATTRESS_COST       0.67      0.67      0.67         3\n",
            "           COMPARISON       1.00      1.00      1.00         1\n",
            "      RETURN_EXCHANGE       0.67      0.40      0.50         5\n",
            "       ORTHO_FEATURES       0.75      1.00      0.86         3\n",
            "   WHAT_SIZE_TO_ORDER       1.00      0.50      0.67         4\n",
            "    DELAY_IN_DELIVERY       0.00      0.00      0.00         2\n",
            "               OFFERS       1.00      0.67      0.80         3\n",
            "\n",
            "             accuracy                           0.59        66\n",
            "            macro avg       0.66      0.66      0.61        66\n",
            "         weighted avg       0.68      0.59      0.59        66\n",
            "\n"
          ]
        },
        {
          "metadata": {
            "tags": null
          },
          "name": "stderr",
          "output_type": "stream",
          "text": [
            "Epoch 12 Training: 100%|██████████| 9/9 [05:41<00:00, 38.00s/it]\n"
          ]
        },
        {
          "metadata": {
            "tags": null
          },
          "name": "stdout",
          "output_type": "stream",
          "text": [
            "Epoch 12: Average Training Loss = 1.9859235948986478\n"
          ]
        },
        {
          "metadata": {
            "tags": null
          },
          "name": "stderr",
          "output_type": "stream",
          "text": [
            "Epoch 12 Validating: 100%|██████████| 3/3 [00:27<00:00,  9.08s/it]\n",
            "/usr/local/lib/python3.10/dist-packages/sklearn/metrics/_classification.py:1531: UndefinedMetricWarning: Precision is ill-defined and being set to 0.0 in labels with no predicted samples. Use `zero_division` parameter to control this behavior.\n",
            "  _warn_prf(average, modifier, f\"{metric.capitalize()} is\", len(result))\n",
            "/usr/local/lib/python3.10/dist-packages/sklearn/metrics/_classification.py:1531: UndefinedMetricWarning: Precision is ill-defined and being set to 0.0 in labels with no predicted samples. Use `zero_division` parameter to control this behavior.\n",
            "  _warn_prf(average, modifier, f\"{metric.capitalize()} is\", len(result))\n",
            "/usr/local/lib/python3.10/dist-packages/sklearn/metrics/_classification.py:1531: UndefinedMetricWarning: Precision is ill-defined and being set to 0.0 in labels with no predicted samples. Use `zero_division` parameter to control this behavior.\n",
            "  _warn_prf(average, modifier, f\"{metric.capitalize()} is\", len(result))\n"
          ]
        },
        {
          "metadata": {
            "tags": null
          },
          "name": "stdout",
          "output_type": "stream",
          "text": [
            "Epoch 12: Average Validation Loss = 2.317701816558838\n",
            "Classification Report:\n",
            "                       precision    recall  f1-score   support\n",
            "\n",
            "   ABOUT_SOF_MATTRESS       0.75      1.00      0.86         3\n",
            "                  EMI       1.00      0.40      0.57         5\n",
            "100_NIGHT_TRIAL_OFFER       1.00      0.50      0.67         4\n",
            "              PILLOWS       1.00      0.67      0.80         3\n",
            "         DISTRIBUTORS       1.00      0.62      0.77         8\n",
            "             WARRANTY       0.00      0.00      0.00         5\n",
            "         ORDER_STATUS       0.50      1.00      0.67         1\n",
            "     PRODUCT_VARIANTS       0.22      1.00      0.36         2\n",
            "   SIZE_CUSTOMIZATION       0.50      1.00      0.67         1\n",
            "         CANCEL_ORDER       0.67      1.00      0.80         2\n",
            "        CHECK_PINCODE       1.00      1.00      1.00         1\n",
            "        ERGO_FEATURES       1.00      0.75      0.86         4\n",
            "             LEAD_GEN       0.43      0.75      0.55         4\n",
            "                  COD       0.25      1.00      0.40         2\n",
            "        MATTRESS_COST       0.67      0.67      0.67         3\n",
            "           COMPARISON       1.00      1.00      1.00         1\n",
            "      RETURN_EXCHANGE       0.60      0.60      0.60         5\n",
            "       ORTHO_FEATURES       1.00      1.00      1.00         3\n",
            "   WHAT_SIZE_TO_ORDER       1.00      0.50      0.67         4\n",
            "    DELAY_IN_DELIVERY       0.00      0.00      0.00         2\n",
            "               OFFERS       1.00      0.67      0.80         3\n",
            "\n",
            "             accuracy                           0.64        66\n",
            "            macro avg       0.69      0.72      0.65        66\n",
            "         weighted avg       0.73      0.64      0.63        66\n",
            "\n"
          ]
        },
        {
          "metadata": {
            "tags": null
          },
          "name": "stderr",
          "output_type": "stream",
          "text": [
            "Epoch 13 Training: 100%|██████████| 9/9 [05:43<00:00, 38.22s/it]\n"
          ]
        },
        {
          "metadata": {
            "tags": null
          },
          "name": "stdout",
          "output_type": "stream",
          "text": [
            "Epoch 13: Average Training Loss = 1.8715910249286227\n"
          ]
        },
        {
          "metadata": {
            "tags": null
          },
          "name": "stderr",
          "output_type": "stream",
          "text": [
            "Epoch 13 Validating: 100%|██████████| 3/3 [00:27<00:00,  9.13s/it]\n",
            "/usr/local/lib/python3.10/dist-packages/sklearn/metrics/_classification.py:1531: UndefinedMetricWarning: Precision is ill-defined and being set to 0.0 in labels with no predicted samples. Use `zero_division` parameter to control this behavior.\n",
            "  _warn_prf(average, modifier, f\"{metric.capitalize()} is\", len(result))\n",
            "/usr/local/lib/python3.10/dist-packages/sklearn/metrics/_classification.py:1531: UndefinedMetricWarning: Precision is ill-defined and being set to 0.0 in labels with no predicted samples. Use `zero_division` parameter to control this behavior.\n",
            "  _warn_prf(average, modifier, f\"{metric.capitalize()} is\", len(result))\n",
            "/usr/local/lib/python3.10/dist-packages/sklearn/metrics/_classification.py:1531: UndefinedMetricWarning: Precision is ill-defined and being set to 0.0 in labels with no predicted samples. Use `zero_division` parameter to control this behavior.\n",
            "  _warn_prf(average, modifier, f\"{metric.capitalize()} is\", len(result))\n"
          ]
        },
        {
          "metadata": {
            "tags": null
          },
          "name": "stdout",
          "output_type": "stream",
          "text": [
            "Epoch 13: Average Validation Loss = 2.239698807398478\n",
            "Classification Report:\n",
            "                       precision    recall  f1-score   support\n",
            "\n",
            "   ABOUT_SOF_MATTRESS       0.75      1.00      0.86         3\n",
            "                  EMI       0.75      0.60      0.67         5\n",
            "100_NIGHT_TRIAL_OFFER       1.00      0.50      0.67         4\n",
            "              PILLOWS       1.00      1.00      1.00         3\n",
            "         DISTRIBUTORS       1.00      0.62      0.77         8\n",
            "             WARRANTY       1.00      0.20      0.33         5\n",
            "         ORDER_STATUS       0.50      1.00      0.67         1\n",
            "     PRODUCT_VARIANTS       0.33      1.00      0.50         2\n",
            "   SIZE_CUSTOMIZATION       0.50      1.00      0.67         1\n",
            "         CANCEL_ORDER       0.67      1.00      0.80         2\n",
            "        CHECK_PINCODE       1.00      1.00      1.00         1\n",
            "        ERGO_FEATURES       1.00      0.75      0.86         4\n",
            "             LEAD_GEN       0.50      0.75      0.60         4\n",
            "                  COD       0.29      1.00      0.44         2\n",
            "        MATTRESS_COST       0.67      0.67      0.67         3\n",
            "           COMPARISON       1.00      1.00      1.00         1\n",
            "      RETURN_EXCHANGE       0.60      0.60      0.60         5\n",
            "       ORTHO_FEATURES       1.00      1.00      1.00         3\n",
            "   WHAT_SIZE_TO_ORDER       1.00      0.50      0.67         4\n",
            "    DELAY_IN_DELIVERY       0.00      0.00      0.00         2\n",
            "               OFFERS       1.00      1.00      1.00         3\n",
            "\n",
            "             accuracy                           0.70        66\n",
            "            macro avg       0.74      0.77      0.70        66\n",
            "         weighted avg       0.80      0.70      0.69        66\n",
            "\n"
          ]
        },
        {
          "metadata": {
            "tags": null
          },
          "name": "stderr",
          "output_type": "stream",
          "text": [
            "Epoch 14 Training: 100%|██████████| 9/9 [05:38<00:00, 37.56s/it]\n"
          ]
        },
        {
          "metadata": {
            "tags": null
          },
          "name": "stdout",
          "output_type": "stream",
          "text": [
            "Epoch 14: Average Training Loss = 1.7967311806148953\n"
          ]
        },
        {
          "metadata": {
            "tags": null
          },
          "name": "stderr",
          "output_type": "stream",
          "text": [
            "Epoch 14 Validating: 100%|██████████| 3/3 [00:29<00:00,  9.88s/it]\n",
            "/usr/local/lib/python3.10/dist-packages/sklearn/metrics/_classification.py:1531: UndefinedMetricWarning: Precision is ill-defined and being set to 0.0 in labels with no predicted samples. Use `zero_division` parameter to control this behavior.\n",
            "  _warn_prf(average, modifier, f\"{metric.capitalize()} is\", len(result))\n",
            "/usr/local/lib/python3.10/dist-packages/sklearn/metrics/_classification.py:1531: UndefinedMetricWarning: Precision is ill-defined and being set to 0.0 in labels with no predicted samples. Use `zero_division` parameter to control this behavior.\n",
            "  _warn_prf(average, modifier, f\"{metric.capitalize()} is\", len(result))\n",
            "/usr/local/lib/python3.10/dist-packages/sklearn/metrics/_classification.py:1531: UndefinedMetricWarning: Precision is ill-defined and being set to 0.0 in labels with no predicted samples. Use `zero_division` parameter to control this behavior.\n",
            "  _warn_prf(average, modifier, f\"{metric.capitalize()} is\", len(result))\n"
          ]
        },
        {
          "metadata": {
            "tags": null
          },
          "name": "stdout",
          "output_type": "stream",
          "text": [
            "Epoch 14: Average Validation Loss = 2.155771851539612\n",
            "Classification Report:\n",
            "                       precision    recall  f1-score   support\n",
            "\n",
            "   ABOUT_SOF_MATTRESS       0.75      1.00      0.86         3\n",
            "                  EMI       0.75      0.60      0.67         5\n",
            "100_NIGHT_TRIAL_OFFER       0.67      0.50      0.57         4\n",
            "              PILLOWS       1.00      1.00      1.00         3\n",
            "         DISTRIBUTORS       1.00      0.75      0.86         8\n",
            "             WARRANTY       1.00      0.20      0.33         5\n",
            "         ORDER_STATUS       0.50      1.00      0.67         1\n",
            "     PRODUCT_VARIANTS       0.33      1.00      0.50         2\n",
            "   SIZE_CUSTOMIZATION       0.50      1.00      0.67         1\n",
            "         CANCEL_ORDER       0.67      1.00      0.80         2\n",
            "        CHECK_PINCODE       1.00      1.00      1.00         1\n",
            "        ERGO_FEATURES       1.00      0.75      0.86         4\n",
            "             LEAD_GEN       0.60      0.75      0.67         4\n",
            "                  COD       0.29      1.00      0.44         2\n",
            "        MATTRESS_COST       0.67      0.67      0.67         3\n",
            "           COMPARISON       1.00      1.00      1.00         1\n",
            "      RETURN_EXCHANGE       0.75      0.60      0.67         5\n",
            "       ORTHO_FEATURES       1.00      1.00      1.00         3\n",
            "   WHAT_SIZE_TO_ORDER       1.00      0.50      0.67         4\n",
            "    DELAY_IN_DELIVERY       0.00      0.00      0.00         2\n",
            "               OFFERS       1.00      1.00      1.00         3\n",
            "\n",
            "             accuracy                           0.71        66\n",
            "            macro avg       0.74      0.78      0.71        66\n",
            "         weighted avg       0.79      0.71      0.71        66\n",
            "\n"
          ]
        },
        {
          "metadata": {
            "tags": null
          },
          "name": "stderr",
          "output_type": "stream",
          "text": [
            "Epoch 15 Training: 100%|██████████| 9/9 [05:40<00:00, 37.83s/it]\n"
          ]
        },
        {
          "metadata": {
            "tags": null
          },
          "name": "stdout",
          "output_type": "stream",
          "text": [
            "Epoch 15: Average Training Loss = 1.7053352726830378\n"
          ]
        },
        {
          "metadata": {
            "tags": null
          },
          "name": "stderr",
          "output_type": "stream",
          "text": [
            "Epoch 15 Validating: 100%|██████████| 3/3 [00:28<00:00,  9.65s/it]\n",
            "/usr/local/lib/python3.10/dist-packages/sklearn/metrics/_classification.py:1531: UndefinedMetricWarning: Precision is ill-defined and being set to 0.0 in labels with no predicted samples. Use `zero_division` parameter to control this behavior.\n",
            "  _warn_prf(average, modifier, f\"{metric.capitalize()} is\", len(result))\n",
            "/usr/local/lib/python3.10/dist-packages/sklearn/metrics/_classification.py:1531: UndefinedMetricWarning: Precision is ill-defined and being set to 0.0 in labels with no predicted samples. Use `zero_division` parameter to control this behavior.\n",
            "  _warn_prf(average, modifier, f\"{metric.capitalize()} is\", len(result))\n",
            "/usr/local/lib/python3.10/dist-packages/sklearn/metrics/_classification.py:1531: UndefinedMetricWarning: Precision is ill-defined and being set to 0.0 in labels with no predicted samples. Use `zero_division` parameter to control this behavior.\n",
            "  _warn_prf(average, modifier, f\"{metric.capitalize()} is\", len(result))\n"
          ]
        },
        {
          "metadata": {
            "tags": null
          },
          "name": "stdout",
          "output_type": "stream",
          "text": [
            "Epoch 15: Average Validation Loss = 2.091130495071411\n",
            "Classification Report:\n",
            "                       precision    recall  f1-score   support\n",
            "\n",
            "   ABOUT_SOF_MATTRESS       0.75      1.00      0.86         3\n",
            "                  EMI       0.80      0.80      0.80         5\n",
            "100_NIGHT_TRIAL_OFFER       0.67      0.50      0.57         4\n",
            "              PILLOWS       1.00      1.00      1.00         3\n",
            "         DISTRIBUTORS       1.00      0.75      0.86         8\n",
            "             WARRANTY       1.00      0.60      0.75         5\n",
            "         ORDER_STATUS       0.50      1.00      0.67         1\n",
            "     PRODUCT_VARIANTS       0.50      1.00      0.67         2\n",
            "   SIZE_CUSTOMIZATION       0.50      1.00      0.67         1\n",
            "         CANCEL_ORDER       0.67      1.00      0.80         2\n",
            "        CHECK_PINCODE       1.00      1.00      1.00         1\n",
            "        ERGO_FEATURES       1.00      0.75      0.86         4\n",
            "             LEAD_GEN       0.60      0.75      0.67         4\n",
            "                  COD       0.40      1.00      0.57         2\n",
            "        MATTRESS_COST       0.67      0.67      0.67         3\n",
            "           COMPARISON       1.00      1.00      1.00         1\n",
            "      RETURN_EXCHANGE       0.75      0.60      0.67         5\n",
            "       ORTHO_FEATURES       1.00      1.00      1.00         3\n",
            "   WHAT_SIZE_TO_ORDER       1.00      0.75      0.86         4\n",
            "    DELAY_IN_DELIVERY       0.00      0.00      0.00         2\n",
            "               OFFERS       1.00      1.00      1.00         3\n",
            "\n",
            "             accuracy                           0.77        66\n",
            "            macro avg       0.75      0.82      0.76        66\n",
            "         weighted avg       0.81      0.77      0.77        66\n",
            "\n"
          ]
        },
        {
          "metadata": {
            "tags": null
          },
          "name": "stderr",
          "output_type": "stream",
          "text": [
            "Epoch 16 Training: 100%|██████████| 9/9 [05:39<00:00, 37.67s/it]\n"
          ]
        },
        {
          "metadata": {
            "tags": null
          },
          "name": "stdout",
          "output_type": "stream",
          "text": [
            "Epoch 16: Average Training Loss = 1.623574243651496\n"
          ]
        },
        {
          "metadata": {
            "tags": null
          },
          "name": "stderr",
          "output_type": "stream",
          "text": [
            "Epoch 16 Validating: 100%|██████████| 3/3 [00:26<00:00,  8.78s/it]\n",
            "/usr/local/lib/python3.10/dist-packages/sklearn/metrics/_classification.py:1531: UndefinedMetricWarning: Precision is ill-defined and being set to 0.0 in labels with no predicted samples. Use `zero_division` parameter to control this behavior.\n",
            "  _warn_prf(average, modifier, f\"{metric.capitalize()} is\", len(result))\n",
            "/usr/local/lib/python3.10/dist-packages/sklearn/metrics/_classification.py:1531: UndefinedMetricWarning: Precision is ill-defined and being set to 0.0 in labels with no predicted samples. Use `zero_division` parameter to control this behavior.\n",
            "  _warn_prf(average, modifier, f\"{metric.capitalize()} is\", len(result))\n",
            "/usr/local/lib/python3.10/dist-packages/sklearn/metrics/_classification.py:1531: UndefinedMetricWarning: Precision is ill-defined and being set to 0.0 in labels with no predicted samples. Use `zero_division` parameter to control this behavior.\n",
            "  _warn_prf(average, modifier, f\"{metric.capitalize()} is\", len(result))\n"
          ]
        },
        {
          "metadata": {
            "tags": null
          },
          "name": "stdout",
          "output_type": "stream",
          "text": [
            "Epoch 16: Average Validation Loss = 2.0676929155985513\n",
            "Classification Report:\n",
            "                       precision    recall  f1-score   support\n",
            "\n",
            "   ABOUT_SOF_MATTRESS       0.75      1.00      0.86         3\n",
            "                  EMI       0.80      0.80      0.80         5\n",
            "100_NIGHT_TRIAL_OFFER       1.00      0.50      0.67         4\n",
            "              PILLOWS       1.00      1.00      1.00         3\n",
            "         DISTRIBUTORS       1.00      0.75      0.86         8\n",
            "             WARRANTY       1.00      0.80      0.89         5\n",
            "         ORDER_STATUS       0.33      1.00      0.50         1\n",
            "     PRODUCT_VARIANTS       0.67      1.00      0.80         2\n",
            "   SIZE_CUSTOMIZATION       0.50      1.00      0.67         1\n",
            "         CANCEL_ORDER       0.67      1.00      0.80         2\n",
            "        CHECK_PINCODE       1.00      1.00      1.00         1\n",
            "        ERGO_FEATURES       1.00      0.75      0.86         4\n",
            "             LEAD_GEN       0.60      0.75      0.67         4\n",
            "                  COD       0.40      1.00      0.57         2\n",
            "        MATTRESS_COST       0.75      1.00      0.86         3\n",
            "           COMPARISON       1.00      1.00      1.00         1\n",
            "      RETURN_EXCHANGE       0.75      0.60      0.67         5\n",
            "       ORTHO_FEATURES       1.00      1.00      1.00         3\n",
            "   WHAT_SIZE_TO_ORDER       1.00      0.75      0.86         4\n",
            "    DELAY_IN_DELIVERY       0.00      0.00      0.00         2\n",
            "               OFFERS       1.00      0.67      0.80         3\n",
            "\n",
            "             accuracy                           0.79        66\n",
            "            macro avg       0.77      0.83      0.77        66\n",
            "         weighted avg       0.83      0.79      0.79        66\n",
            "\n"
          ]
        },
        {
          "metadata": {
            "tags": null
          },
          "name": "stderr",
          "output_type": "stream",
          "text": [
            "Epoch 17 Training: 100%|██████████| 9/9 [05:43<00:00, 38.14s/it]\n"
          ]
        },
        {
          "metadata": {
            "tags": null
          },
          "name": "stdout",
          "output_type": "stream",
          "text": [
            "Epoch 17: Average Training Loss = 1.5468735429975722\n"
          ]
        },
        {
          "metadata": {
            "tags": null
          },
          "name": "stderr",
          "output_type": "stream",
          "text": [
            "Epoch 17 Validating: 100%|██████████| 3/3 [00:27<00:00,  9.12s/it]\n",
            "/usr/local/lib/python3.10/dist-packages/sklearn/metrics/_classification.py:1531: UndefinedMetricWarning: Precision is ill-defined and being set to 0.0 in labels with no predicted samples. Use `zero_division` parameter to control this behavior.\n",
            "  _warn_prf(average, modifier, f\"{metric.capitalize()} is\", len(result))\n",
            "/usr/local/lib/python3.10/dist-packages/sklearn/metrics/_classification.py:1531: UndefinedMetricWarning: Precision is ill-defined and being set to 0.0 in labels with no predicted samples. Use `zero_division` parameter to control this behavior.\n",
            "  _warn_prf(average, modifier, f\"{metric.capitalize()} is\", len(result))\n",
            "/usr/local/lib/python3.10/dist-packages/sklearn/metrics/_classification.py:1531: UndefinedMetricWarning: Precision is ill-defined and being set to 0.0 in labels with no predicted samples. Use `zero_division` parameter to control this behavior.\n",
            "  _warn_prf(average, modifier, f\"{metric.capitalize()} is\", len(result))\n"
          ]
        },
        {
          "metadata": {
            "tags": null
          },
          "name": "stdout",
          "output_type": "stream",
          "text": [
            "Epoch 17: Average Validation Loss = 1.9904401699701946\n",
            "Classification Report:\n",
            "                       precision    recall  f1-score   support\n",
            "\n",
            "   ABOUT_SOF_MATTRESS       0.75      1.00      0.86         3\n",
            "                  EMI       0.80      0.80      0.80         5\n",
            "100_NIGHT_TRIAL_OFFER       1.00      0.50      0.67         4\n",
            "              PILLOWS       1.00      1.00      1.00         3\n",
            "         DISTRIBUTORS       1.00      0.88      0.93         8\n",
            "             WARRANTY       1.00      0.80      0.89         5\n",
            "         ORDER_STATUS       0.33      1.00      0.50         1\n",
            "     PRODUCT_VARIANTS       0.67      1.00      0.80         2\n",
            "   SIZE_CUSTOMIZATION       0.50      1.00      0.67         1\n",
            "         CANCEL_ORDER       1.00      1.00      1.00         2\n",
            "        CHECK_PINCODE       1.00      1.00      1.00         1\n",
            "        ERGO_FEATURES       1.00      0.75      0.86         4\n",
            "             LEAD_GEN       0.60      0.75      0.67         4\n",
            "                  COD       0.50      1.00      0.67         2\n",
            "        MATTRESS_COST       0.75      1.00      0.86         3\n",
            "           COMPARISON       1.00      1.00      1.00         1\n",
            "      RETURN_EXCHANGE       0.75      0.60      0.67         5\n",
            "       ORTHO_FEATURES       1.00      1.00      1.00         3\n",
            "   WHAT_SIZE_TO_ORDER       1.00      0.75      0.86         4\n",
            "    DELAY_IN_DELIVERY       0.00      0.00      0.00         2\n",
            "               OFFERS       1.00      1.00      1.00         3\n",
            "\n",
            "             accuracy                           0.82        66\n",
            "            macro avg       0.79      0.85      0.79        66\n",
            "         weighted avg       0.85      0.82      0.81        66\n",
            "\n"
          ]
        },
        {
          "metadata": {
            "tags": null
          },
          "name": "stderr",
          "output_type": "stream",
          "text": [
            "Epoch 18 Training: 100%|██████████| 9/9 [05:41<00:00, 37.90s/it]\n"
          ]
        },
        {
          "metadata": {
            "tags": null
          },
          "name": "stdout",
          "output_type": "stream",
          "text": [
            "Epoch 18: Average Training Loss = 1.467627273665534\n"
          ]
        },
        {
          "metadata": {
            "tags": null
          },
          "name": "stderr",
          "output_type": "stream",
          "text": [
            "Epoch 18 Validating: 100%|██████████| 3/3 [00:27<00:00,  9.11s/it]\n",
            "/usr/local/lib/python3.10/dist-packages/sklearn/metrics/_classification.py:1531: UndefinedMetricWarning: Precision is ill-defined and being set to 0.0 in labels with no predicted samples. Use `zero_division` parameter to control this behavior.\n",
            "  _warn_prf(average, modifier, f\"{metric.capitalize()} is\", len(result))\n",
            "/usr/local/lib/python3.10/dist-packages/sklearn/metrics/_classification.py:1531: UndefinedMetricWarning: Precision is ill-defined and being set to 0.0 in labels with no predicted samples. Use `zero_division` parameter to control this behavior.\n",
            "  _warn_prf(average, modifier, f\"{metric.capitalize()} is\", len(result))\n",
            "/usr/local/lib/python3.10/dist-packages/sklearn/metrics/_classification.py:1531: UndefinedMetricWarning: Precision is ill-defined and being set to 0.0 in labels with no predicted samples. Use `zero_division` parameter to control this behavior.\n",
            "  _warn_prf(average, modifier, f\"{metric.capitalize()} is\", len(result))\n"
          ]
        },
        {
          "metadata": {
            "tags": null
          },
          "name": "stdout",
          "output_type": "stream",
          "text": [
            "Epoch 18: Average Validation Loss = 1.9409759442011516\n",
            "Classification Report:\n",
            "                       precision    recall  f1-score   support\n",
            "\n",
            "   ABOUT_SOF_MATTRESS       0.75      1.00      0.86         3\n",
            "                  EMI       0.80      0.80      0.80         5\n",
            "100_NIGHT_TRIAL_OFFER       1.00      0.50      0.67         4\n",
            "              PILLOWS       1.00      1.00      1.00         3\n",
            "         DISTRIBUTORS       1.00      0.88      0.93         8\n",
            "             WARRANTY       1.00      1.00      1.00         5\n",
            "         ORDER_STATUS       0.33      1.00      0.50         1\n",
            "     PRODUCT_VARIANTS       0.67      1.00      0.80         2\n",
            "   SIZE_CUSTOMIZATION       0.50      1.00      0.67         1\n",
            "         CANCEL_ORDER       1.00      1.00      1.00         2\n",
            "        CHECK_PINCODE       1.00      1.00      1.00         1\n",
            "        ERGO_FEATURES       1.00      0.75      0.86         4\n",
            "             LEAD_GEN       0.60      0.75      0.67         4\n",
            "                  COD       0.67      1.00      0.80         2\n",
            "        MATTRESS_COST       0.75      1.00      0.86         3\n",
            "           COMPARISON       1.00      1.00      1.00         1\n",
            "      RETURN_EXCHANGE       0.75      0.60      0.67         5\n",
            "       ORTHO_FEATURES       1.00      1.00      1.00         3\n",
            "   WHAT_SIZE_TO_ORDER       1.00      0.75      0.86         4\n",
            "    DELAY_IN_DELIVERY       0.00      0.00      0.00         2\n",
            "               OFFERS       1.00      1.00      1.00         3\n",
            "\n",
            "             accuracy                           0.83        66\n",
            "            macro avg       0.80      0.86      0.81        66\n",
            "         weighted avg       0.85      0.83      0.83        66\n",
            "\n"
          ]
        },
        {
          "metadata": {
            "tags": null
          },
          "name": "stderr",
          "output_type": "stream",
          "text": [
            "Epoch 19 Training: 100%|██████████| 9/9 [05:40<00:00, 37.86s/it]\n"
          ]
        },
        {
          "metadata": {
            "tags": null
          },
          "name": "stdout",
          "output_type": "stream",
          "text": [
            "Epoch 19: Average Training Loss = 1.4088710678948297\n"
          ]
        },
        {
          "metadata": {
            "tags": null
          },
          "name": "stderr",
          "output_type": "stream",
          "text": [
            "Epoch 19 Validating: 100%|██████████| 3/3 [00:26<00:00,  8.74s/it]\n",
            "/usr/local/lib/python3.10/dist-packages/sklearn/metrics/_classification.py:1531: UndefinedMetricWarning: Precision is ill-defined and being set to 0.0 in labels with no predicted samples. Use `zero_division` parameter to control this behavior.\n",
            "  _warn_prf(average, modifier, f\"{metric.capitalize()} is\", len(result))\n",
            "/usr/local/lib/python3.10/dist-packages/sklearn/metrics/_classification.py:1531: UndefinedMetricWarning: Precision is ill-defined and being set to 0.0 in labels with no predicted samples. Use `zero_division` parameter to control this behavior.\n",
            "  _warn_prf(average, modifier, f\"{metric.capitalize()} is\", len(result))\n",
            "/usr/local/lib/python3.10/dist-packages/sklearn/metrics/_classification.py:1531: UndefinedMetricWarning: Precision is ill-defined and being set to 0.0 in labels with no predicted samples. Use `zero_division` parameter to control this behavior.\n",
            "  _warn_prf(average, modifier, f\"{metric.capitalize()} is\", len(result))\n"
          ]
        },
        {
          "metadata": {
            "tags": null
          },
          "name": "stdout",
          "output_type": "stream",
          "text": [
            "Epoch 19: Average Validation Loss = 1.9340471824010212\n",
            "Classification Report:\n",
            "                       precision    recall  f1-score   support\n",
            "\n",
            "   ABOUT_SOF_MATTRESS       0.67      0.67      0.67         3\n",
            "                  EMI       0.80      0.80      0.80         5\n",
            "100_NIGHT_TRIAL_OFFER       1.00      0.50      0.67         4\n",
            "              PILLOWS       1.00      1.00      1.00         3\n",
            "         DISTRIBUTORS       1.00      0.88      0.93         8\n",
            "             WARRANTY       1.00      1.00      1.00         5\n",
            "         ORDER_STATUS       0.33      1.00      0.50         1\n",
            "     PRODUCT_VARIANTS       0.67      1.00      0.80         2\n",
            "   SIZE_CUSTOMIZATION       0.50      1.00      0.67         1\n",
            "         CANCEL_ORDER       1.00      1.00      1.00         2\n",
            "        CHECK_PINCODE       1.00      1.00      1.00         1\n",
            "        ERGO_FEATURES       1.00      0.75      0.86         4\n",
            "             LEAD_GEN       0.50      0.75      0.60         4\n",
            "                  COD       0.67      1.00      0.80         2\n",
            "        MATTRESS_COST       0.75      1.00      0.86         3\n",
            "           COMPARISON       1.00      1.00      1.00         1\n",
            "      RETURN_EXCHANGE       0.75      0.60      0.67         5\n",
            "       ORTHO_FEATURES       1.00      1.00      1.00         3\n",
            "   WHAT_SIZE_TO_ORDER       1.00      0.75      0.86         4\n",
            "    DELAY_IN_DELIVERY       0.00      0.00      0.00         2\n",
            "               OFFERS       1.00      1.00      1.00         3\n",
            "\n",
            "             accuracy                           0.82        66\n",
            "            macro avg       0.79      0.84      0.79        66\n",
            "         weighted avg       0.84      0.82      0.81        66\n",
            "\n"
          ]
        },
        {
          "metadata": {
            "tags": null
          },
          "name": "stderr",
          "output_type": "stream",
          "text": [
            "Epoch 20 Training: 100%|██████████| 9/9 [05:40<00:00, 37.89s/it]\n"
          ]
        },
        {
          "metadata": {
            "tags": null
          },
          "name": "stdout",
          "output_type": "stream",
          "text": [
            "Epoch 20: Average Training Loss = 1.364357140329149\n"
          ]
        },
        {
          "metadata": {
            "tags": null
          },
          "name": "stderr",
          "output_type": "stream",
          "text": [
            "Epoch 20 Validating: 100%|██████████| 3/3 [00:27<00:00,  9.09s/it]\n",
            "/usr/local/lib/python3.10/dist-packages/sklearn/metrics/_classification.py:1531: UndefinedMetricWarning: Precision is ill-defined and being set to 0.0 in labels with no predicted samples. Use `zero_division` parameter to control this behavior.\n",
            "  _warn_prf(average, modifier, f\"{metric.capitalize()} is\", len(result))\n",
            "/usr/local/lib/python3.10/dist-packages/sklearn/metrics/_classification.py:1531: UndefinedMetricWarning: Precision is ill-defined and being set to 0.0 in labels with no predicted samples. Use `zero_division` parameter to control this behavior.\n",
            "  _warn_prf(average, modifier, f\"{metric.capitalize()} is\", len(result))\n",
            "/usr/local/lib/python3.10/dist-packages/sklearn/metrics/_classification.py:1531: UndefinedMetricWarning: Precision is ill-defined and being set to 0.0 in labels with no predicted samples. Use `zero_division` parameter to control this behavior.\n",
            "  _warn_prf(average, modifier, f\"{metric.capitalize()} is\", len(result))\n"
          ]
        },
        {
          "metadata": {
            "tags": null
          },
          "name": "stdout",
          "output_type": "stream",
          "text": [
            "Epoch 20: Average Validation Loss = 1.8740404844284058\n",
            "Classification Report:\n",
            "                       precision    recall  f1-score   support\n",
            "\n",
            "   ABOUT_SOF_MATTRESS       0.67      0.67      0.67         3\n",
            "                  EMI       0.80      0.80      0.80         5\n",
            "100_NIGHT_TRIAL_OFFER       1.00      0.50      0.67         4\n",
            "              PILLOWS       1.00      1.00      1.00         3\n",
            "         DISTRIBUTORS       1.00      0.88      0.93         8\n",
            "             WARRANTY       1.00      1.00      1.00         5\n",
            "         ORDER_STATUS       0.25      1.00      0.40         1\n",
            "     PRODUCT_VARIANTS       0.67      1.00      0.80         2\n",
            "   SIZE_CUSTOMIZATION       0.50      1.00      0.67         1\n",
            "         CANCEL_ORDER       1.00      1.00      1.00         2\n",
            "        CHECK_PINCODE       1.00      1.00      1.00         1\n",
            "        ERGO_FEATURES       1.00      0.75      0.86         4\n",
            "             LEAD_GEN       0.50      0.75      0.60         4\n",
            "                  COD       0.67      1.00      0.80         2\n",
            "        MATTRESS_COST       1.00      1.00      1.00         3\n",
            "           COMPARISON       1.00      1.00      1.00         1\n",
            "      RETURN_EXCHANGE       0.75      0.60      0.67         5\n",
            "       ORTHO_FEATURES       1.00      1.00      1.00         3\n",
            "   WHAT_SIZE_TO_ORDER       1.00      0.75      0.86         4\n",
            "    DELAY_IN_DELIVERY       0.00      0.00      0.00         2\n",
            "               OFFERS       1.00      1.00      1.00         3\n",
            "\n",
            "             accuracy                           0.82        66\n",
            "            macro avg       0.80      0.84      0.80        66\n",
            "         weighted avg       0.85      0.82      0.82        66\n",
            "\n"
          ]
        },
        {
          "metadata": {
            "tags": null
          },
          "name": "stderr",
          "output_type": "stream",
          "text": [
            "Epoch 21 Training: 100%|██████████| 9/9 [05:41<00:00, 38.00s/it]\n"
          ]
        },
        {
          "metadata": {
            "tags": null
          },
          "name": "stdout",
          "output_type": "stream",
          "text": [
            "Epoch 21: Average Training Loss = 1.293037321832445\n"
          ]
        },
        {
          "metadata": {
            "tags": null
          },
          "name": "stderr",
          "output_type": "stream",
          "text": [
            "Epoch 21 Validating: 100%|██████████| 3/3 [00:27<00:00,  9.16s/it]\n",
            "/usr/local/lib/python3.10/dist-packages/sklearn/metrics/_classification.py:1531: UndefinedMetricWarning: Precision is ill-defined and being set to 0.0 in labels with no predicted samples. Use `zero_division` parameter to control this behavior.\n",
            "  _warn_prf(average, modifier, f\"{metric.capitalize()} is\", len(result))\n",
            "/usr/local/lib/python3.10/dist-packages/sklearn/metrics/_classification.py:1531: UndefinedMetricWarning: Precision is ill-defined and being set to 0.0 in labels with no predicted samples. Use `zero_division` parameter to control this behavior.\n",
            "  _warn_prf(average, modifier, f\"{metric.capitalize()} is\", len(result))\n",
            "/usr/local/lib/python3.10/dist-packages/sklearn/metrics/_classification.py:1531: UndefinedMetricWarning: Precision is ill-defined and being set to 0.0 in labels with no predicted samples. Use `zero_division` parameter to control this behavior.\n",
            "  _warn_prf(average, modifier, f\"{metric.capitalize()} is\", len(result))\n"
          ]
        },
        {
          "metadata": {
            "tags": null
          },
          "name": "stdout",
          "output_type": "stream",
          "text": [
            "Epoch 21: Average Validation Loss = 1.831899881362915\n",
            "Classification Report:\n",
            "                       precision    recall  f1-score   support\n",
            "\n",
            "   ABOUT_SOF_MATTRESS       0.67      0.67      0.67         3\n",
            "                  EMI       0.80      0.80      0.80         5\n",
            "100_NIGHT_TRIAL_OFFER       1.00      0.50      0.67         4\n",
            "              PILLOWS       1.00      1.00      1.00         3\n",
            "         DISTRIBUTORS       1.00      0.88      0.93         8\n",
            "             WARRANTY       1.00      1.00      1.00         5\n",
            "         ORDER_STATUS       0.33      1.00      0.50         1\n",
            "     PRODUCT_VARIANTS       0.67      1.00      0.80         2\n",
            "   SIZE_CUSTOMIZATION       0.50      1.00      0.67         1\n",
            "         CANCEL_ORDER       1.00      1.00      1.00         2\n",
            "        CHECK_PINCODE       1.00      1.00      1.00         1\n",
            "        ERGO_FEATURES       1.00      0.75      0.86         4\n",
            "             LEAD_GEN       0.50      0.75      0.60         4\n",
            "                  COD       0.67      1.00      0.80         2\n",
            "        MATTRESS_COST       0.75      1.00      0.86         3\n",
            "           COMPARISON       1.00      1.00      1.00         1\n",
            "      RETURN_EXCHANGE       0.75      0.60      0.67         5\n",
            "       ORTHO_FEATURES       1.00      1.00      1.00         3\n",
            "   WHAT_SIZE_TO_ORDER       1.00      0.75      0.86         4\n",
            "    DELAY_IN_DELIVERY       0.00      0.00      0.00         2\n",
            "               OFFERS       1.00      1.00      1.00         3\n",
            "\n",
            "             accuracy                           0.82        66\n",
            "            macro avg       0.79      0.84      0.79        66\n",
            "         weighted avg       0.84      0.82      0.81        66\n",
            "\n"
          ]
        },
        {
          "metadata": {
            "tags": null
          },
          "name": "stderr",
          "output_type": "stream",
          "text": [
            "Epoch 22 Training: 100%|██████████| 9/9 [05:41<00:00, 37.98s/it]\n"
          ]
        },
        {
          "metadata": {
            "tags": null
          },
          "name": "stdout",
          "output_type": "stream",
          "text": [
            "Epoch 22: Average Training Loss = 1.249118235376146\n"
          ]
        },
        {
          "metadata": {
            "tags": null
          },
          "name": "stderr",
          "output_type": "stream",
          "text": [
            "Epoch 22 Validating: 100%|██████████| 3/3 [00:26<00:00,  8.87s/it]\n",
            "/usr/local/lib/python3.10/dist-packages/sklearn/metrics/_classification.py:1531: UndefinedMetricWarning: Precision is ill-defined and being set to 0.0 in labels with no predicted samples. Use `zero_division` parameter to control this behavior.\n",
            "  _warn_prf(average, modifier, f\"{metric.capitalize()} is\", len(result))\n",
            "/usr/local/lib/python3.10/dist-packages/sklearn/metrics/_classification.py:1531: UndefinedMetricWarning: Precision is ill-defined and being set to 0.0 in labels with no predicted samples. Use `zero_division` parameter to control this behavior.\n",
            "  _warn_prf(average, modifier, f\"{metric.capitalize()} is\", len(result))\n",
            "/usr/local/lib/python3.10/dist-packages/sklearn/metrics/_classification.py:1531: UndefinedMetricWarning: Precision is ill-defined and being set to 0.0 in labels with no predicted samples. Use `zero_division` parameter to control this behavior.\n",
            "  _warn_prf(average, modifier, f\"{metric.capitalize()} is\", len(result))\n"
          ]
        },
        {
          "metadata": {
            "tags": null
          },
          "name": "stdout",
          "output_type": "stream",
          "text": [
            "Epoch 22: Average Validation Loss = 1.7461878061294556\n",
            "Classification Report:\n",
            "                       precision    recall  f1-score   support\n",
            "\n",
            "   ABOUT_SOF_MATTRESS       0.67      0.67      0.67         3\n",
            "                  EMI       0.80      0.80      0.80         5\n",
            "100_NIGHT_TRIAL_OFFER       1.00      0.50      0.67         4\n",
            "              PILLOWS       1.00      1.00      1.00         3\n",
            "         DISTRIBUTORS       1.00      0.88      0.93         8\n",
            "             WARRANTY       1.00      1.00      1.00         5\n",
            "         ORDER_STATUS       0.33      1.00      0.50         1\n",
            "     PRODUCT_VARIANTS       0.50      1.00      0.67         2\n",
            "   SIZE_CUSTOMIZATION       0.50      1.00      0.67         1\n",
            "         CANCEL_ORDER       1.00      1.00      1.00         2\n",
            "        CHECK_PINCODE       1.00      1.00      1.00         1\n",
            "        ERGO_FEATURES       1.00      0.75      0.86         4\n",
            "             LEAD_GEN       0.75      0.75      0.75         4\n",
            "                  COD       0.67      1.00      0.80         2\n",
            "        MATTRESS_COST       1.00      1.00      1.00         3\n",
            "           COMPARISON       1.00      1.00      1.00         1\n",
            "      RETURN_EXCHANGE       0.80      0.80      0.80         5\n",
            "       ORTHO_FEATURES       1.00      1.00      1.00         3\n",
            "   WHAT_SIZE_TO_ORDER       1.00      1.00      1.00         4\n",
            "    DELAY_IN_DELIVERY       0.00      0.00      0.00         2\n",
            "               OFFERS       1.00      1.00      1.00         3\n",
            "\n",
            "             accuracy                           0.85        66\n",
            "            macro avg       0.81      0.86      0.81        66\n",
            "         weighted avg       0.87      0.85      0.84        66\n",
            "\n"
          ]
        },
        {
          "metadata": {
            "tags": null
          },
          "name": "stderr",
          "output_type": "stream",
          "text": [
            "Epoch 23 Training: 100%|██████████| 9/9 [05:41<00:00, 37.89s/it]\n"
          ]
        },
        {
          "metadata": {
            "tags": null
          },
          "name": "stdout",
          "output_type": "stream",
          "text": [
            "Epoch 23: Average Training Loss = 1.1744367943869696\n"
          ]
        },
        {
          "metadata": {
            "tags": null
          },
          "name": "stderr",
          "output_type": "stream",
          "text": [
            "Epoch 23 Validating: 100%|██████████| 3/3 [00:29<00:00,  9.80s/it]\n",
            "/usr/local/lib/python3.10/dist-packages/sklearn/metrics/_classification.py:1531: UndefinedMetricWarning: Precision is ill-defined and being set to 0.0 in labels with no predicted samples. Use `zero_division` parameter to control this behavior.\n",
            "  _warn_prf(average, modifier, f\"{metric.capitalize()} is\", len(result))\n",
            "/usr/local/lib/python3.10/dist-packages/sklearn/metrics/_classification.py:1531: UndefinedMetricWarning: Precision is ill-defined and being set to 0.0 in labels with no predicted samples. Use `zero_division` parameter to control this behavior.\n",
            "  _warn_prf(average, modifier, f\"{metric.capitalize()} is\", len(result))\n",
            "/usr/local/lib/python3.10/dist-packages/sklearn/metrics/_classification.py:1531: UndefinedMetricWarning: Precision is ill-defined and being set to 0.0 in labels with no predicted samples. Use `zero_division` parameter to control this behavior.\n",
            "  _warn_prf(average, modifier, f\"{metric.capitalize()} is\", len(result))\n"
          ]
        },
        {
          "metadata": {
            "tags": null
          },
          "name": "stdout",
          "output_type": "stream",
          "text": [
            "Epoch 23: Average Validation Loss = 1.7370694875717163\n",
            "Classification Report:\n",
            "                       precision    recall  f1-score   support\n",
            "\n",
            "   ABOUT_SOF_MATTRESS       1.00      0.67      0.80         3\n",
            "                  EMI       0.80      0.80      0.80         5\n",
            "100_NIGHT_TRIAL_OFFER       1.00      0.50      0.67         4\n",
            "              PILLOWS       1.00      1.00      1.00         3\n",
            "         DISTRIBUTORS       1.00      0.88      0.93         8\n",
            "             WARRANTY       1.00      1.00      1.00         5\n",
            "         ORDER_STATUS       0.33      1.00      0.50         1\n",
            "     PRODUCT_VARIANTS       0.67      1.00      0.80         2\n",
            "   SIZE_CUSTOMIZATION       0.50      1.00      0.67         1\n",
            "         CANCEL_ORDER       1.00      1.00      1.00         2\n",
            "        CHECK_PINCODE       1.00      1.00      1.00         1\n",
            "        ERGO_FEATURES       1.00      1.00      1.00         4\n",
            "             LEAD_GEN       0.60      0.75      0.67         4\n",
            "                  COD       0.67      1.00      0.80         2\n",
            "        MATTRESS_COST       0.75      1.00      0.86         3\n",
            "           COMPARISON       1.00      1.00      1.00         1\n",
            "      RETURN_EXCHANGE       0.80      0.80      0.80         5\n",
            "       ORTHO_FEATURES       1.00      1.00      1.00         3\n",
            "   WHAT_SIZE_TO_ORDER       1.00      0.75      0.86         4\n",
            "    DELAY_IN_DELIVERY       0.00      0.00      0.00         2\n",
            "               OFFERS       1.00      1.00      1.00         3\n",
            "\n",
            "             accuracy                           0.85        66\n",
            "            macro avg       0.82      0.86      0.82        66\n",
            "         weighted avg       0.87      0.85      0.84        66\n",
            "\n"
          ]
        },
        {
          "metadata": {
            "tags": null
          },
          "name": "stderr",
          "output_type": "stream",
          "text": [
            "Epoch 24 Training: 100%|██████████| 9/9 [05:40<00:00, 37.78s/it]\n"
          ]
        },
        {
          "metadata": {
            "tags": null
          },
          "name": "stdout",
          "output_type": "stream",
          "text": [
            "Epoch 24: Average Training Loss = 1.1472872628106012\n"
          ]
        },
        {
          "metadata": {
            "tags": null
          },
          "name": "stderr",
          "output_type": "stream",
          "text": [
            "Epoch 24 Validating: 100%|██████████| 3/3 [00:27<00:00,  9.13s/it]\n",
            "/usr/local/lib/python3.10/dist-packages/sklearn/metrics/_classification.py:1531: UndefinedMetricWarning: Precision is ill-defined and being set to 0.0 in labels with no predicted samples. Use `zero_division` parameter to control this behavior.\n",
            "  _warn_prf(average, modifier, f\"{metric.capitalize()} is\", len(result))\n",
            "/usr/local/lib/python3.10/dist-packages/sklearn/metrics/_classification.py:1531: UndefinedMetricWarning: Precision is ill-defined and being set to 0.0 in labels with no predicted samples. Use `zero_division` parameter to control this behavior.\n",
            "  _warn_prf(average, modifier, f\"{metric.capitalize()} is\", len(result))\n",
            "/usr/local/lib/python3.10/dist-packages/sklearn/metrics/_classification.py:1531: UndefinedMetricWarning: Precision is ill-defined and being set to 0.0 in labels with no predicted samples. Use `zero_division` parameter to control this behavior.\n",
            "  _warn_prf(average, modifier, f\"{metric.capitalize()} is\", len(result))\n"
          ]
        },
        {
          "metadata": {
            "tags": null
          },
          "name": "stdout",
          "output_type": "stream",
          "text": [
            "Epoch 24: Average Validation Loss = 1.7227838436762493\n",
            "Classification Report:\n",
            "                       precision    recall  f1-score   support\n",
            "\n",
            "   ABOUT_SOF_MATTRESS       1.00      0.67      0.80         3\n",
            "                  EMI       0.80      0.80      0.80         5\n",
            "100_NIGHT_TRIAL_OFFER       1.00      0.50      0.67         4\n",
            "              PILLOWS       1.00      1.00      1.00         3\n",
            "         DISTRIBUTORS       1.00      0.88      0.93         8\n",
            "             WARRANTY       1.00      1.00      1.00         5\n",
            "         ORDER_STATUS       0.33      1.00      0.50         1\n",
            "     PRODUCT_VARIANTS       0.67      1.00      0.80         2\n",
            "   SIZE_CUSTOMIZATION       0.50      1.00      0.67         1\n",
            "         CANCEL_ORDER       1.00      1.00      1.00         2\n",
            "        CHECK_PINCODE       1.00      1.00      1.00         1\n",
            "        ERGO_FEATURES       1.00      1.00      1.00         4\n",
            "             LEAD_GEN       0.60      0.75      0.67         4\n",
            "                  COD       0.67      1.00      0.80         2\n",
            "        MATTRESS_COST       0.75      1.00      0.86         3\n",
            "           COMPARISON       1.00      1.00      1.00         1\n",
            "      RETURN_EXCHANGE       0.80      0.80      0.80         5\n",
            "       ORTHO_FEATURES       1.00      1.00      1.00         3\n",
            "   WHAT_SIZE_TO_ORDER       1.00      0.75      0.86         4\n",
            "    DELAY_IN_DELIVERY       0.00      0.00      0.00         2\n",
            "               OFFERS       1.00      1.00      1.00         3\n",
            "\n",
            "             accuracy                           0.85        66\n",
            "            macro avg       0.82      0.86      0.82        66\n",
            "         weighted avg       0.87      0.85      0.84        66\n",
            "\n"
          ]
        },
        {
          "metadata": {
            "tags": null
          },
          "name": "stderr",
          "output_type": "stream",
          "text": [
            "Epoch 25 Training: 100%|██████████| 9/9 [05:42<00:00, 38.10s/it]\n"
          ]
        },
        {
          "metadata": {
            "tags": null
          },
          "name": "stdout",
          "output_type": "stream",
          "text": [
            "Epoch 25: Average Training Loss = 1.0971886979209051\n"
          ]
        },
        {
          "metadata": {
            "tags": null
          },
          "name": "stderr",
          "output_type": "stream",
          "text": [
            "Epoch 25 Validating: 100%|██████████| 3/3 [00:27<00:00,  9.07s/it]\n",
            "/usr/local/lib/python3.10/dist-packages/sklearn/metrics/_classification.py:1531: UndefinedMetricWarning: Precision is ill-defined and being set to 0.0 in labels with no predicted samples. Use `zero_division` parameter to control this behavior.\n",
            "  _warn_prf(average, modifier, f\"{metric.capitalize()} is\", len(result))\n",
            "/usr/local/lib/python3.10/dist-packages/sklearn/metrics/_classification.py:1531: UndefinedMetricWarning: Precision is ill-defined and being set to 0.0 in labels with no predicted samples. Use `zero_division` parameter to control this behavior.\n",
            "  _warn_prf(average, modifier, f\"{metric.capitalize()} is\", len(result))\n",
            "/usr/local/lib/python3.10/dist-packages/sklearn/metrics/_classification.py:1531: UndefinedMetricWarning: Precision is ill-defined and being set to 0.0 in labels with no predicted samples. Use `zero_division` parameter to control this behavior.\n",
            "  _warn_prf(average, modifier, f\"{metric.capitalize()} is\", len(result))\n"
          ]
        },
        {
          "metadata": {
            "tags": null
          },
          "name": "stdout",
          "output_type": "stream",
          "text": [
            "Epoch 25: Average Validation Loss = 1.6774507363637288\n",
            "Classification Report:\n",
            "                       precision    recall  f1-score   support\n",
            "\n",
            "   ABOUT_SOF_MATTRESS       1.00      0.67      0.80         3\n",
            "                  EMI       0.80      0.80      0.80         5\n",
            "100_NIGHT_TRIAL_OFFER       1.00      0.50      0.67         4\n",
            "              PILLOWS       1.00      1.00      1.00         3\n",
            "         DISTRIBUTORS       1.00      0.88      0.93         8\n",
            "             WARRANTY       1.00      1.00      1.00         5\n",
            "         ORDER_STATUS       0.33      1.00      0.50         1\n",
            "     PRODUCT_VARIANTS       0.50      1.00      0.67         2\n",
            "   SIZE_CUSTOMIZATION       0.50      1.00      0.67         1\n",
            "         CANCEL_ORDER       1.00      1.00      1.00         2\n",
            "        CHECK_PINCODE       1.00      1.00      1.00         1\n",
            "        ERGO_FEATURES       1.00      1.00      1.00         4\n",
            "             LEAD_GEN       0.75      0.75      0.75         4\n",
            "                  COD       0.67      1.00      0.80         2\n",
            "        MATTRESS_COST       1.00      1.00      1.00         3\n",
            "           COMPARISON       1.00      1.00      1.00         1\n",
            "      RETURN_EXCHANGE       0.80      0.80      0.80         5\n",
            "       ORTHO_FEATURES       1.00      1.00      1.00         3\n",
            "   WHAT_SIZE_TO_ORDER       1.00      1.00      1.00         4\n",
            "    DELAY_IN_DELIVERY       0.00      0.00      0.00         2\n",
            "               OFFERS       1.00      1.00      1.00         3\n",
            "\n",
            "             accuracy                           0.86        66\n",
            "            macro avg       0.83      0.88      0.83        66\n",
            "         weighted avg       0.88      0.86      0.86        66\n",
            "\n"
          ]
        },
        {
          "metadata": {
            "tags": null
          },
          "name": "stderr",
          "output_type": "stream",
          "text": [
            "Epoch 26 Training: 100%|██████████| 9/9 [05:40<00:00, 37.82s/it]\n"
          ]
        },
        {
          "metadata": {
            "tags": null
          },
          "name": "stdout",
          "output_type": "stream",
          "text": [
            "Epoch 26: Average Training Loss = 1.0599955254130893\n"
          ]
        },
        {
          "metadata": {
            "tags": null
          },
          "name": "stderr",
          "output_type": "stream",
          "text": [
            "Epoch 26 Validating: 100%|██████████| 3/3 [00:27<00:00,  9.13s/it]\n",
            "/usr/local/lib/python3.10/dist-packages/sklearn/metrics/_classification.py:1531: UndefinedMetricWarning: Precision is ill-defined and being set to 0.0 in labels with no predicted samples. Use `zero_division` parameter to control this behavior.\n",
            "  _warn_prf(average, modifier, f\"{metric.capitalize()} is\", len(result))\n",
            "/usr/local/lib/python3.10/dist-packages/sklearn/metrics/_classification.py:1531: UndefinedMetricWarning: Precision is ill-defined and being set to 0.0 in labels with no predicted samples. Use `zero_division` parameter to control this behavior.\n",
            "  _warn_prf(average, modifier, f\"{metric.capitalize()} is\", len(result))\n",
            "/usr/local/lib/python3.10/dist-packages/sklearn/metrics/_classification.py:1531: UndefinedMetricWarning: Precision is ill-defined and being set to 0.0 in labels with no predicted samples. Use `zero_division` parameter to control this behavior.\n",
            "  _warn_prf(average, modifier, f\"{metric.capitalize()} is\", len(result))\n"
          ]
        },
        {
          "metadata": {
            "tags": null
          },
          "name": "stdout",
          "output_type": "stream",
          "text": [
            "Epoch 26: Average Validation Loss = 1.6951862573623657\n",
            "Classification Report:\n",
            "                       precision    recall  f1-score   support\n",
            "\n",
            "   ABOUT_SOF_MATTRESS       1.00      0.67      0.80         3\n",
            "                  EMI       0.83      1.00      0.91         5\n",
            "100_NIGHT_TRIAL_OFFER       1.00      0.50      0.67         4\n",
            "              PILLOWS       1.00      1.00      1.00         3\n",
            "         DISTRIBUTORS       1.00      0.88      0.93         8\n",
            "             WARRANTY       1.00      1.00      1.00         5\n",
            "         ORDER_STATUS       0.33      1.00      0.50         1\n",
            "     PRODUCT_VARIANTS       0.67      1.00      0.80         2\n",
            "   SIZE_CUSTOMIZATION       0.50      1.00      0.67         1\n",
            "         CANCEL_ORDER       1.00      1.00      1.00         2\n",
            "        CHECK_PINCODE       1.00      1.00      1.00         1\n",
            "        ERGO_FEATURES       1.00      1.00      1.00         4\n",
            "             LEAD_GEN       0.60      0.75      0.67         4\n",
            "                  COD       0.67      1.00      0.80         2\n",
            "        MATTRESS_COST       0.75      1.00      0.86         3\n",
            "           COMPARISON       1.00      1.00      1.00         1\n",
            "      RETURN_EXCHANGE       1.00      0.80      0.89         5\n",
            "       ORTHO_FEATURES       1.00      1.00      1.00         3\n",
            "   WHAT_SIZE_TO_ORDER       1.00      0.75      0.86         4\n",
            "    DELAY_IN_DELIVERY       0.00      0.00      0.00         2\n",
            "               OFFERS       1.00      1.00      1.00         3\n",
            "\n",
            "             accuracy                           0.86        66\n",
            "            macro avg       0.83      0.87      0.83        66\n",
            "         weighted avg       0.88      0.86      0.86        66\n",
            "\n"
          ]
        },
        {
          "metadata": {
            "tags": null
          },
          "name": "stderr",
          "output_type": "stream",
          "text": [
            "Epoch 27 Training: 100%|██████████| 9/9 [05:42<00:00, 38.08s/it]\n"
          ]
        },
        {
          "metadata": {
            "tags": null
          },
          "name": "stdout",
          "output_type": "stream",
          "text": [
            "Epoch 27: Average Training Loss = 1.0401908291710749\n"
          ]
        },
        {
          "metadata": {
            "tags": null
          },
          "name": "stderr",
          "output_type": "stream",
          "text": [
            "Epoch 27 Validating: 100%|██████████| 3/3 [00:27<00:00,  9.14s/it]\n",
            "/usr/local/lib/python3.10/dist-packages/sklearn/metrics/_classification.py:1531: UndefinedMetricWarning: Precision is ill-defined and being set to 0.0 in labels with no predicted samples. Use `zero_division` parameter to control this behavior.\n",
            "  _warn_prf(average, modifier, f\"{metric.capitalize()} is\", len(result))\n",
            "/usr/local/lib/python3.10/dist-packages/sklearn/metrics/_classification.py:1531: UndefinedMetricWarning: Precision is ill-defined and being set to 0.0 in labels with no predicted samples. Use `zero_division` parameter to control this behavior.\n",
            "  _warn_prf(average, modifier, f\"{metric.capitalize()} is\", len(result))\n",
            "/usr/local/lib/python3.10/dist-packages/sklearn/metrics/_classification.py:1531: UndefinedMetricWarning: Precision is ill-defined and being set to 0.0 in labels with no predicted samples. Use `zero_division` parameter to control this behavior.\n",
            "  _warn_prf(average, modifier, f\"{metric.capitalize()} is\", len(result))\n"
          ]
        },
        {
          "metadata": {
            "tags": null
          },
          "name": "stdout",
          "output_type": "stream",
          "text": [
            "Epoch 27: Average Validation Loss = 1.6360512177149455\n",
            "Classification Report:\n",
            "                       precision    recall  f1-score   support\n",
            "\n",
            "   ABOUT_SOF_MATTRESS       1.00      0.67      0.80         3\n",
            "                  EMI       0.80      0.80      0.80         5\n",
            "100_NIGHT_TRIAL_OFFER       1.00      0.50      0.67         4\n",
            "              PILLOWS       1.00      1.00      1.00         3\n",
            "         DISTRIBUTORS       1.00      0.88      0.93         8\n",
            "             WARRANTY       1.00      1.00      1.00         5\n",
            "         ORDER_STATUS       0.33      1.00      0.50         1\n",
            "     PRODUCT_VARIANTS       0.50      1.00      0.67         2\n",
            "   SIZE_CUSTOMIZATION       0.50      1.00      0.67         1\n",
            "         CANCEL_ORDER       1.00      1.00      1.00         2\n",
            "        CHECK_PINCODE       1.00      1.00      1.00         1\n",
            "        ERGO_FEATURES       1.00      1.00      1.00         4\n",
            "             LEAD_GEN       0.75      0.75      0.75         4\n",
            "                  COD       0.67      1.00      0.80         2\n",
            "        MATTRESS_COST       1.00      1.00      1.00         3\n",
            "           COMPARISON       1.00      1.00      1.00         1\n",
            "      RETURN_EXCHANGE       0.80      0.80      0.80         5\n",
            "       ORTHO_FEATURES       1.00      1.00      1.00         3\n",
            "   WHAT_SIZE_TO_ORDER       1.00      1.00      1.00         4\n",
            "    DELAY_IN_DELIVERY       0.00      0.00      0.00         2\n",
            "               OFFERS       1.00      1.00      1.00         3\n",
            "\n",
            "             accuracy                           0.86        66\n",
            "            macro avg       0.83      0.88      0.83        66\n",
            "         weighted avg       0.88      0.86      0.86        66\n",
            "\n"
          ]
        },
        {
          "metadata": {
            "tags": null
          },
          "name": "stderr",
          "output_type": "stream",
          "text": [
            "Epoch 28 Training: 100%|██████████| 9/9 [05:43<00:00, 38.19s/it]\n"
          ]
        },
        {
          "metadata": {
            "tags": null
          },
          "name": "stdout",
          "output_type": "stream",
          "text": [
            "Epoch 28: Average Training Loss = 1.0166660679711237\n"
          ]
        },
        {
          "metadata": {
            "tags": null
          },
          "name": "stderr",
          "output_type": "stream",
          "text": [
            "Epoch 28 Validating: 100%|██████████| 3/3 [00:27<00:00,  9.14s/it]\n",
            "/usr/local/lib/python3.10/dist-packages/sklearn/metrics/_classification.py:1531: UndefinedMetricWarning: Precision is ill-defined and being set to 0.0 in labels with no predicted samples. Use `zero_division` parameter to control this behavior.\n",
            "  _warn_prf(average, modifier, f\"{metric.capitalize()} is\", len(result))\n",
            "/usr/local/lib/python3.10/dist-packages/sklearn/metrics/_classification.py:1531: UndefinedMetricWarning: Precision is ill-defined and being set to 0.0 in labels with no predicted samples. Use `zero_division` parameter to control this behavior.\n",
            "  _warn_prf(average, modifier, f\"{metric.capitalize()} is\", len(result))\n",
            "/usr/local/lib/python3.10/dist-packages/sklearn/metrics/_classification.py:1531: UndefinedMetricWarning: Precision is ill-defined and being set to 0.0 in labels with no predicted samples. Use `zero_division` parameter to control this behavior.\n",
            "  _warn_prf(average, modifier, f\"{metric.capitalize()} is\", len(result))\n"
          ]
        },
        {
          "metadata": {
            "tags": null
          },
          "name": "stdout",
          "output_type": "stream",
          "text": [
            "Epoch 28: Average Validation Loss = 1.6114412546157837\n",
            "Classification Report:\n",
            "                       precision    recall  f1-score   support\n",
            "\n",
            "   ABOUT_SOF_MATTRESS       1.00      0.67      0.80         3\n",
            "                  EMI       1.00      1.00      1.00         5\n",
            "100_NIGHT_TRIAL_OFFER       1.00      0.50      0.67         4\n",
            "              PILLOWS       1.00      1.00      1.00         3\n",
            "         DISTRIBUTORS       1.00      0.88      0.93         8\n",
            "             WARRANTY       1.00      1.00      1.00         5\n",
            "         ORDER_STATUS       0.33      1.00      0.50         1\n",
            "     PRODUCT_VARIANTS       0.50      1.00      0.67         2\n",
            "   SIZE_CUSTOMIZATION       0.50      1.00      0.67         1\n",
            "         CANCEL_ORDER       1.00      1.00      1.00         2\n",
            "        CHECK_PINCODE       1.00      1.00      1.00         1\n",
            "        ERGO_FEATURES       1.00      1.00      1.00         4\n",
            "             LEAD_GEN       0.75      0.75      0.75         4\n",
            "                  COD       0.50      1.00      0.67         2\n",
            "        MATTRESS_COST       1.00      1.00      1.00         3\n",
            "           COMPARISON       1.00      1.00      1.00         1\n",
            "      RETURN_EXCHANGE       1.00      0.80      0.89         5\n",
            "       ORTHO_FEATURES       1.00      1.00      1.00         3\n",
            "   WHAT_SIZE_TO_ORDER       1.00      1.00      1.00         4\n",
            "    DELAY_IN_DELIVERY       0.00      0.00      0.00         2\n",
            "               OFFERS       1.00      1.00      1.00         3\n",
            "\n",
            "             accuracy                           0.88        66\n",
            "            macro avg       0.84      0.89      0.84        66\n",
            "         weighted avg       0.91      0.88      0.88        66\n",
            "\n"
          ]
        },
        {
          "output_type": "stream",
          "name": "stderr",
          "text": [
            "Epoch 29 Training: 100%|██████████| 9/9 [05:43<00:00, 38.19s/it]\n"
          ]
        },
        {
          "output_type": "stream",
          "name": "stdout",
          "text": [
            "Epoch 29: Average Training Loss = 0.961046040058136\n"
          ]
        },
        {
          "output_type": "stream",
          "name": "stderr",
          "text": [
            "Epoch 29 Validating: 100%|██████████| 3/3 [00:26<00:00,  8.78s/it]\n",
            "/usr/local/lib/python3.10/dist-packages/sklearn/metrics/_classification.py:1531: UndefinedMetricWarning: Precision is ill-defined and being set to 0.0 in labels with no predicted samples. Use `zero_division` parameter to control this behavior.\n",
            "  _warn_prf(average, modifier, f\"{metric.capitalize()} is\", len(result))\n",
            "/usr/local/lib/python3.10/dist-packages/sklearn/metrics/_classification.py:1531: UndefinedMetricWarning: Precision is ill-defined and being set to 0.0 in labels with no predicted samples. Use `zero_division` parameter to control this behavior.\n",
            "  _warn_prf(average, modifier, f\"{metric.capitalize()} is\", len(result))\n",
            "/usr/local/lib/python3.10/dist-packages/sklearn/metrics/_classification.py:1531: UndefinedMetricWarning: Precision is ill-defined and being set to 0.0 in labels with no predicted samples. Use `zero_division` parameter to control this behavior.\n",
            "  _warn_prf(average, modifier, f\"{metric.capitalize()} is\", len(result))\n"
          ]
        },
        {
          "output_type": "stream",
          "name": "stdout",
          "text": [
            "Epoch 29: Average Validation Loss = 1.5971521933873494\n",
            "Classification Report:\n",
            "                       precision    recall  f1-score   support\n",
            "\n",
            "   ABOUT_SOF_MATTRESS       1.00      0.67      0.80         3\n",
            "                  EMI       0.83      1.00      0.91         5\n",
            "100_NIGHT_TRIAL_OFFER       1.00      0.50      0.67         4\n",
            "              PILLOWS       1.00      1.00      1.00         3\n",
            "         DISTRIBUTORS       1.00      0.88      0.93         8\n",
            "             WARRANTY       1.00      1.00      1.00         5\n",
            "         ORDER_STATUS       0.33      1.00      0.50         1\n",
            "     PRODUCT_VARIANTS       0.67      1.00      0.80         2\n",
            "   SIZE_CUSTOMIZATION       0.50      1.00      0.67         1\n",
            "         CANCEL_ORDER       1.00      1.00      1.00         2\n",
            "        CHECK_PINCODE       1.00      1.00      1.00         1\n",
            "        ERGO_FEATURES       1.00      1.00      1.00         4\n",
            "             LEAD_GEN       0.50      0.75      0.60         4\n",
            "                  COD       0.67      1.00      0.80         2\n",
            "        MATTRESS_COST       0.75      1.00      0.86         3\n",
            "           COMPARISON       1.00      1.00      1.00         1\n",
            "      RETURN_EXCHANGE       1.00      0.60      0.75         5\n",
            "       ORTHO_FEATURES       1.00      1.00      1.00         3\n",
            "   WHAT_SIZE_TO_ORDER       1.00      0.75      0.86         4\n",
            "    DELAY_IN_DELIVERY       0.00      0.00      0.00         2\n",
            "               OFFERS       1.00      1.00      1.00         3\n",
            "\n",
            "             accuracy                           0.85        66\n",
            "            macro avg       0.82      0.86      0.82        66\n",
            "         weighted avg       0.88      0.85      0.84        66\n",
            "\n"
          ]
        },
        {
          "output_type": "stream",
          "name": "stderr",
          "text": [
            "Epoch 30 Training: 100%|██████████| 9/9 [05:40<00:00, 37.81s/it]\n"
          ]
        },
        {
          "output_type": "stream",
          "name": "stdout",
          "text": [
            "Epoch 30: Average Training Loss = 0.9514422946506076\n"
          ]
        },
        {
          "output_type": "stream",
          "name": "stderr",
          "text": [
            "Epoch 30 Validating: 100%|██████████| 3/3 [00:29<00:00,  9.73s/it]\n",
            "/usr/local/lib/python3.10/dist-packages/sklearn/metrics/_classification.py:1531: UndefinedMetricWarning: Precision is ill-defined and being set to 0.0 in labels with no predicted samples. Use `zero_division` parameter to control this behavior.\n",
            "  _warn_prf(average, modifier, f\"{metric.capitalize()} is\", len(result))\n",
            "/usr/local/lib/python3.10/dist-packages/sklearn/metrics/_classification.py:1531: UndefinedMetricWarning: Precision is ill-defined and being set to 0.0 in labels with no predicted samples. Use `zero_division` parameter to control this behavior.\n",
            "  _warn_prf(average, modifier, f\"{metric.capitalize()} is\", len(result))\n",
            "/usr/local/lib/python3.10/dist-packages/sklearn/metrics/_classification.py:1531: UndefinedMetricWarning: Precision is ill-defined and being set to 0.0 in labels with no predicted samples. Use `zero_division` parameter to control this behavior.\n",
            "  _warn_prf(average, modifier, f\"{metric.capitalize()} is\", len(result))\n"
          ]
        },
        {
          "output_type": "stream",
          "name": "stdout",
          "text": [
            "Epoch 30: Average Validation Loss = 1.5902010599772136\n",
            "Classification Report:\n",
            "                       precision    recall  f1-score   support\n",
            "\n",
            "   ABOUT_SOF_MATTRESS       1.00      0.67      0.80         3\n",
            "                  EMI       1.00      1.00      1.00         5\n",
            "100_NIGHT_TRIAL_OFFER       1.00      0.50      0.67         4\n",
            "              PILLOWS       1.00      1.00      1.00         3\n",
            "         DISTRIBUTORS       1.00      0.88      0.93         8\n",
            "             WARRANTY       1.00      1.00      1.00         5\n",
            "         ORDER_STATUS       0.33      1.00      0.50         1\n",
            "     PRODUCT_VARIANTS       0.67      1.00      0.80         2\n",
            "   SIZE_CUSTOMIZATION       0.50      1.00      0.67         1\n",
            "         CANCEL_ORDER       1.00      1.00      1.00         2\n",
            "        CHECK_PINCODE       1.00      1.00      1.00         1\n",
            "        ERGO_FEATURES       1.00      1.00      1.00         4\n",
            "             LEAD_GEN       0.50      0.75      0.60         4\n",
            "                  COD       0.50      1.00      0.67         2\n",
            "        MATTRESS_COST       0.75      1.00      0.86         3\n",
            "           COMPARISON       1.00      1.00      1.00         1\n",
            "      RETURN_EXCHANGE       1.00      0.60      0.75         5\n",
            "       ORTHO_FEATURES       1.00      1.00      1.00         3\n",
            "   WHAT_SIZE_TO_ORDER       1.00      0.75      0.86         4\n",
            "    DELAY_IN_DELIVERY       0.00      0.00      0.00         2\n",
            "               OFFERS       1.00      1.00      1.00         3\n",
            "\n",
            "             accuracy                           0.85        66\n",
            "            macro avg       0.82      0.86      0.81        66\n",
            "         weighted avg       0.89      0.85      0.85        66\n",
            "\n",
            "Model and tokenizer saved to ./bert_intent_model\n"
          ]
        }
      ]
    },
    {
      "cell_type": "code",
      "source": [
        "import json\n",
        "reverse_label_map = {idx: label for label, idx in label_map.items()}\n",
        "with open(f\"{save_directory}/label_map.json\", \"w\") as f:\n",
        "    json.dump(reverse_label_map, f)\n",
        "print(\"Label map saved to ./bert_intent_model/label_map.json\")\n",
        "\n",
        "# Save the model and tokenizer\n",
        "model.save_pretrained(save_directory)\n",
        "tokenizer.save_pretrained(save_directory)\n",
        "\n",
        "print(\"Model and tokenizer saved to ./bert_intent_model\")"
      ],
      "metadata": {
        "colab": {
          "base_uri": "https://localhost:8080/"
        },
        "id": "6XgcqBxNx_E5",
        "outputId": "e5cfe60b-5b1c-4a63-b7c8-5c496b36afa1"
      },
      "execution_count": 13,
      "outputs": [
        {
          "output_type": "stream",
          "name": "stdout",
          "text": [
            "Label map saved to ./bert_intent_model/label_map.json\n",
            "Model and tokenizer saved to ./bert_intent_model\n"
          ]
        }
      ]
    },
    {
      "cell_type": "code",
      "source": [
        "from google.colab import files\n",
        "import shutil\n",
        "\n",
        "shutil.make_archive(\"bert_intent_model\", 'zip', \"/content/bert_intent_model\")\n",
        "files.download(\"bert_intent_model.zip\")"
      ],
      "metadata": {
        "colab": {
          "base_uri": "https://localhost:8080/",
          "height": 17
        },
        "id": "Jl4c4193pxgA",
        "outputId": "f4874816-f77d-4709-a571-30eef0c45431"
      },
      "execution_count": 9,
      "outputs": [
        {
          "output_type": "display_data",
          "data": {
            "text/plain": [
              "<IPython.core.display.Javascript object>"
            ],
            "application/javascript": [
              "\n",
              "    async function download(id, filename, size) {\n",
              "      if (!google.colab.kernel.accessAllowed) {\n",
              "        return;\n",
              "      }\n",
              "      const div = document.createElement('div');\n",
              "      const label = document.createElement('label');\n",
              "      label.textContent = `Downloading \"${filename}\": `;\n",
              "      div.appendChild(label);\n",
              "      const progress = document.createElement('progress');\n",
              "      progress.max = size;\n",
              "      div.appendChild(progress);\n",
              "      document.body.appendChild(div);\n",
              "\n",
              "      const buffers = [];\n",
              "      let downloaded = 0;\n",
              "\n",
              "      const channel = await google.colab.kernel.comms.open(id);\n",
              "      // Send a message to notify the kernel that we're ready.\n",
              "      channel.send({})\n",
              "\n",
              "      for await (const message of channel.messages) {\n",
              "        // Send a message to notify the kernel that we're ready.\n",
              "        channel.send({})\n",
              "        if (message.buffers) {\n",
              "          for (const buffer of message.buffers) {\n",
              "            buffers.push(buffer);\n",
              "            downloaded += buffer.byteLength;\n",
              "            progress.value = downloaded;\n",
              "          }\n",
              "        }\n",
              "      }\n",
              "      const blob = new Blob(buffers, {type: 'application/binary'});\n",
              "      const a = document.createElement('a');\n",
              "      a.href = window.URL.createObjectURL(blob);\n",
              "      a.download = filename;\n",
              "      div.appendChild(a);\n",
              "      a.click();\n",
              "      div.remove();\n",
              "    }\n",
              "  "
            ]
          },
          "metadata": {}
        },
        {
          "output_type": "display_data",
          "data": {
            "text/plain": [
              "<IPython.core.display.Javascript object>"
            ],
            "application/javascript": [
              "download(\"download_77b6ca68-1b13-47c7-84f1-82bf0feccc41\", \"bert_intent_model.zip\", 405749432)"
            ]
          },
          "metadata": {}
        }
      ]
    },
    {
      "cell_type": "code",
      "source": [
        "import json\n",
        "from transformers import BertForSequenceClassification, BertTokenizer\n",
        "import torch\n",
        "\n",
        "# Load the model and tokenizer\n",
        "save_directory = \"./bert_intent_model\"\n",
        "model = BertForSequenceClassification.from_pretrained(save_directory)\n",
        "tokenizer = BertTokenizer.from_pretrained(save_directory)\n",
        "model.eval()\n",
        "\n",
        "# Load the reverse label map\n",
        "with open(f\"{save_directory}/label_map.json\", \"r\") as f:\n",
        "    reverse_label_map = json.load(f)\n",
        "\n",
        "# Prediction function\n",
        "def predict_intent(sentence):\n",
        "    inputs = tokenizer(\n",
        "        sentence, return_tensors=\"pt\", padding=True, truncation=True, max_length=128\n",
        "    )\n",
        "    with torch.no_grad():\n",
        "        outputs = model(**inputs)\n",
        "    logits = outputs.logits\n",
        "    predicted_label = torch.argmax(logits, dim=1).item()\n",
        "    return reverse_label_map[str(predicted_label)]\n",
        "\n",
        "# Test cases\n",
        "test_cases = [\n",
        "    \"Can I return this item?\",\n",
        "    \"Why hasn’t my package arrived yet? its been delayed\",\n",
        "    \"Do you offer cash on delivery?\",\n",
        "    \"I'm interested in learning more about your services.\",\n",
        "    \"Could you schedule a call with a support agent for tomorrow?\"\n",
        "]\n",
        "\n",
        "for test in test_cases:\n",
        "    print(f\"Sentence: {test} | Predicted Intent: {predict_intent(test)}\")\n"
      ],
      "metadata": {
        "colab": {
          "base_uri": "https://localhost:8080/"
        },
        "id": "kMrLv4reCR9M",
        "outputId": "1c348acc-0e3c-4099-ccda-d09d58162d8d"
      },
      "execution_count": 19,
      "outputs": [
        {
          "output_type": "stream",
          "name": "stdout",
          "text": [
            "Sentence: Can I return this item? | Predicted Intent: RETURN_EXCHANGE\n",
            "Sentence: Why hasn’t my package arrived yet? its been delayed | Predicted Intent: DELAY_IN_DELIVERY\n",
            "Sentence: Do you offer cash on delivery? | Predicted Intent: COD\n",
            "Sentence: I'm interested in learning more about your services. | Predicted Intent: LEAD_GEN\n",
            "Sentence: Could you schedule a call with a support agent for tomorrow? | Predicted Intent: LEAD_GEN\n"
          ]
        }
      ]
    }
  ],
  "metadata": {
    "colab": {
      "provenance": []
    },
    "kernelspec": {
      "display_name": "Python 3",
      "name": "python3"
    },
    "language_info": {
      "name": "python"
    },
    "widgets": {
      "application/vnd.jupyter.widget-state+json": {
        "91869405258c49e18a6437036bcc28ee": {
          "model_module": "@jupyter-widgets/controls",
          "model_name": "HBoxModel",
          "model_module_version": "1.5.0",
          "state": {
            "_dom_classes": [],
            "_model_module": "@jupyter-widgets/controls",
            "_model_module_version": "1.5.0",
            "_model_name": "HBoxModel",
            "_view_count": null,
            "_view_module": "@jupyter-widgets/controls",
            "_view_module_version": "1.5.0",
            "_view_name": "HBoxView",
            "box_style": "",
            "children": [
              "IPY_MODEL_5cffbb167ac04e4bbd4d6ea18e4bf2ae",
              "IPY_MODEL_dc5792ba66894dbba1be14b94c5408a3",
              "IPY_MODEL_0fde65f483934ee6a9c995cbb482a533"
            ],
            "layout": "IPY_MODEL_880949c185e745c38530d60a7d7a7b6a"
          }
        },
        "5cffbb167ac04e4bbd4d6ea18e4bf2ae": {
          "model_module": "@jupyter-widgets/controls",
          "model_name": "HTMLModel",
          "model_module_version": "1.5.0",
          "state": {
            "_dom_classes": [],
            "_model_module": "@jupyter-widgets/controls",
            "_model_module_version": "1.5.0",
            "_model_name": "HTMLModel",
            "_view_count": null,
            "_view_module": "@jupyter-widgets/controls",
            "_view_module_version": "1.5.0",
            "_view_name": "HTMLView",
            "description": "",
            "description_tooltip": null,
            "layout": "IPY_MODEL_b7bc74535d3841e3a1101fedd412026c",
            "placeholder": "​",
            "style": "IPY_MODEL_e2c9b815c31e4335928bc7d59e3c4f81",
            "value": "tokenizer_config.json: 100%"
          }
        },
        "dc5792ba66894dbba1be14b94c5408a3": {
          "model_module": "@jupyter-widgets/controls",
          "model_name": "FloatProgressModel",
          "model_module_version": "1.5.0",
          "state": {
            "_dom_classes": [],
            "_model_module": "@jupyter-widgets/controls",
            "_model_module_version": "1.5.0",
            "_model_name": "FloatProgressModel",
            "_view_count": null,
            "_view_module": "@jupyter-widgets/controls",
            "_view_module_version": "1.5.0",
            "_view_name": "ProgressView",
            "bar_style": "success",
            "description": "",
            "description_tooltip": null,
            "layout": "IPY_MODEL_4a273aa9d7a14e79bfdc325a82294d49",
            "max": 48,
            "min": 0,
            "orientation": "horizontal",
            "style": "IPY_MODEL_00fe7794e98e440f8135fb31c7355161",
            "value": 48
          }
        },
        "0fde65f483934ee6a9c995cbb482a533": {
          "model_module": "@jupyter-widgets/controls",
          "model_name": "HTMLModel",
          "model_module_version": "1.5.0",
          "state": {
            "_dom_classes": [],
            "_model_module": "@jupyter-widgets/controls",
            "_model_module_version": "1.5.0",
            "_model_name": "HTMLModel",
            "_view_count": null,
            "_view_module": "@jupyter-widgets/controls",
            "_view_module_version": "1.5.0",
            "_view_name": "HTMLView",
            "description": "",
            "description_tooltip": null,
            "layout": "IPY_MODEL_c553e46181014d208378dac80f229a3d",
            "placeholder": "​",
            "style": "IPY_MODEL_ad299e2338a14d10aeee63f10b5bc3c1",
            "value": " 48.0/48.0 [00:00&lt;00:00, 2.87kB/s]"
          }
        },
        "880949c185e745c38530d60a7d7a7b6a": {
          "model_module": "@jupyter-widgets/base",
          "model_name": "LayoutModel",
          "model_module_version": "1.2.0",
          "state": {
            "_model_module": "@jupyter-widgets/base",
            "_model_module_version": "1.2.0",
            "_model_name": "LayoutModel",
            "_view_count": null,
            "_view_module": "@jupyter-widgets/base",
            "_view_module_version": "1.2.0",
            "_view_name": "LayoutView",
            "align_content": null,
            "align_items": null,
            "align_self": null,
            "border": null,
            "bottom": null,
            "display": null,
            "flex": null,
            "flex_flow": null,
            "grid_area": null,
            "grid_auto_columns": null,
            "grid_auto_flow": null,
            "grid_auto_rows": null,
            "grid_column": null,
            "grid_gap": null,
            "grid_row": null,
            "grid_template_areas": null,
            "grid_template_columns": null,
            "grid_template_rows": null,
            "height": null,
            "justify_content": null,
            "justify_items": null,
            "left": null,
            "margin": null,
            "max_height": null,
            "max_width": null,
            "min_height": null,
            "min_width": null,
            "object_fit": null,
            "object_position": null,
            "order": null,
            "overflow": null,
            "overflow_x": null,
            "overflow_y": null,
            "padding": null,
            "right": null,
            "top": null,
            "visibility": null,
            "width": null
          }
        },
        "b7bc74535d3841e3a1101fedd412026c": {
          "model_module": "@jupyter-widgets/base",
          "model_name": "LayoutModel",
          "model_module_version": "1.2.0",
          "state": {
            "_model_module": "@jupyter-widgets/base",
            "_model_module_version": "1.2.0",
            "_model_name": "LayoutModel",
            "_view_count": null,
            "_view_module": "@jupyter-widgets/base",
            "_view_module_version": "1.2.0",
            "_view_name": "LayoutView",
            "align_content": null,
            "align_items": null,
            "align_self": null,
            "border": null,
            "bottom": null,
            "display": null,
            "flex": null,
            "flex_flow": null,
            "grid_area": null,
            "grid_auto_columns": null,
            "grid_auto_flow": null,
            "grid_auto_rows": null,
            "grid_column": null,
            "grid_gap": null,
            "grid_row": null,
            "grid_template_areas": null,
            "grid_template_columns": null,
            "grid_template_rows": null,
            "height": null,
            "justify_content": null,
            "justify_items": null,
            "left": null,
            "margin": null,
            "max_height": null,
            "max_width": null,
            "min_height": null,
            "min_width": null,
            "object_fit": null,
            "object_position": null,
            "order": null,
            "overflow": null,
            "overflow_x": null,
            "overflow_y": null,
            "padding": null,
            "right": null,
            "top": null,
            "visibility": null,
            "width": null
          }
        },
        "e2c9b815c31e4335928bc7d59e3c4f81": {
          "model_module": "@jupyter-widgets/controls",
          "model_name": "DescriptionStyleModel",
          "model_module_version": "1.5.0",
          "state": {
            "_model_module": "@jupyter-widgets/controls",
            "_model_module_version": "1.5.0",
            "_model_name": "DescriptionStyleModel",
            "_view_count": null,
            "_view_module": "@jupyter-widgets/base",
            "_view_module_version": "1.2.0",
            "_view_name": "StyleView",
            "description_width": ""
          }
        },
        "4a273aa9d7a14e79bfdc325a82294d49": {
          "model_module": "@jupyter-widgets/base",
          "model_name": "LayoutModel",
          "model_module_version": "1.2.0",
          "state": {
            "_model_module": "@jupyter-widgets/base",
            "_model_module_version": "1.2.0",
            "_model_name": "LayoutModel",
            "_view_count": null,
            "_view_module": "@jupyter-widgets/base",
            "_view_module_version": "1.2.0",
            "_view_name": "LayoutView",
            "align_content": null,
            "align_items": null,
            "align_self": null,
            "border": null,
            "bottom": null,
            "display": null,
            "flex": null,
            "flex_flow": null,
            "grid_area": null,
            "grid_auto_columns": null,
            "grid_auto_flow": null,
            "grid_auto_rows": null,
            "grid_column": null,
            "grid_gap": null,
            "grid_row": null,
            "grid_template_areas": null,
            "grid_template_columns": null,
            "grid_template_rows": null,
            "height": null,
            "justify_content": null,
            "justify_items": null,
            "left": null,
            "margin": null,
            "max_height": null,
            "max_width": null,
            "min_height": null,
            "min_width": null,
            "object_fit": null,
            "object_position": null,
            "order": null,
            "overflow": null,
            "overflow_x": null,
            "overflow_y": null,
            "padding": null,
            "right": null,
            "top": null,
            "visibility": null,
            "width": null
          }
        },
        "00fe7794e98e440f8135fb31c7355161": {
          "model_module": "@jupyter-widgets/controls",
          "model_name": "ProgressStyleModel",
          "model_module_version": "1.5.0",
          "state": {
            "_model_module": "@jupyter-widgets/controls",
            "_model_module_version": "1.5.0",
            "_model_name": "ProgressStyleModel",
            "_view_count": null,
            "_view_module": "@jupyter-widgets/base",
            "_view_module_version": "1.2.0",
            "_view_name": "StyleView",
            "bar_color": null,
            "description_width": ""
          }
        },
        "c553e46181014d208378dac80f229a3d": {
          "model_module": "@jupyter-widgets/base",
          "model_name": "LayoutModel",
          "model_module_version": "1.2.0",
          "state": {
            "_model_module": "@jupyter-widgets/base",
            "_model_module_version": "1.2.0",
            "_model_name": "LayoutModel",
            "_view_count": null,
            "_view_module": "@jupyter-widgets/base",
            "_view_module_version": "1.2.0",
            "_view_name": "LayoutView",
            "align_content": null,
            "align_items": null,
            "align_self": null,
            "border": null,
            "bottom": null,
            "display": null,
            "flex": null,
            "flex_flow": null,
            "grid_area": null,
            "grid_auto_columns": null,
            "grid_auto_flow": null,
            "grid_auto_rows": null,
            "grid_column": null,
            "grid_gap": null,
            "grid_row": null,
            "grid_template_areas": null,
            "grid_template_columns": null,
            "grid_template_rows": null,
            "height": null,
            "justify_content": null,
            "justify_items": null,
            "left": null,
            "margin": null,
            "max_height": null,
            "max_width": null,
            "min_height": null,
            "min_width": null,
            "object_fit": null,
            "object_position": null,
            "order": null,
            "overflow": null,
            "overflow_x": null,
            "overflow_y": null,
            "padding": null,
            "right": null,
            "top": null,
            "visibility": null,
            "width": null
          }
        },
        "ad299e2338a14d10aeee63f10b5bc3c1": {
          "model_module": "@jupyter-widgets/controls",
          "model_name": "DescriptionStyleModel",
          "model_module_version": "1.5.0",
          "state": {
            "_model_module": "@jupyter-widgets/controls",
            "_model_module_version": "1.5.0",
            "_model_name": "DescriptionStyleModel",
            "_view_count": null,
            "_view_module": "@jupyter-widgets/base",
            "_view_module_version": "1.2.0",
            "_view_name": "StyleView",
            "description_width": ""
          }
        },
        "70f0e37ab9044aba82a1ca51e88ab702": {
          "model_module": "@jupyter-widgets/controls",
          "model_name": "HBoxModel",
          "model_module_version": "1.5.0",
          "state": {
            "_dom_classes": [],
            "_model_module": "@jupyter-widgets/controls",
            "_model_module_version": "1.5.0",
            "_model_name": "HBoxModel",
            "_view_count": null,
            "_view_module": "@jupyter-widgets/controls",
            "_view_module_version": "1.5.0",
            "_view_name": "HBoxView",
            "box_style": "",
            "children": [
              "IPY_MODEL_a6d41410ebff4709b518a48d3a2cd44c",
              "IPY_MODEL_10adc2daa3154580b480251efb9b7bf4",
              "IPY_MODEL_9e2b7ba8986e4adbbd5d3b429f06e643"
            ],
            "layout": "IPY_MODEL_25d9d00d0075484db882aa909f545551"
          }
        },
        "a6d41410ebff4709b518a48d3a2cd44c": {
          "model_module": "@jupyter-widgets/controls",
          "model_name": "HTMLModel",
          "model_module_version": "1.5.0",
          "state": {
            "_dom_classes": [],
            "_model_module": "@jupyter-widgets/controls",
            "_model_module_version": "1.5.0",
            "_model_name": "HTMLModel",
            "_view_count": null,
            "_view_module": "@jupyter-widgets/controls",
            "_view_module_version": "1.5.0",
            "_view_name": "HTMLView",
            "description": "",
            "description_tooltip": null,
            "layout": "IPY_MODEL_c5b7f055cd6745a4bca538f127dac83b",
            "placeholder": "​",
            "style": "IPY_MODEL_ce46719ecda64038bded51fabb397083",
            "value": "vocab.txt: 100%"
          }
        },
        "10adc2daa3154580b480251efb9b7bf4": {
          "model_module": "@jupyter-widgets/controls",
          "model_name": "FloatProgressModel",
          "model_module_version": "1.5.0",
          "state": {
            "_dom_classes": [],
            "_model_module": "@jupyter-widgets/controls",
            "_model_module_version": "1.5.0",
            "_model_name": "FloatProgressModel",
            "_view_count": null,
            "_view_module": "@jupyter-widgets/controls",
            "_view_module_version": "1.5.0",
            "_view_name": "ProgressView",
            "bar_style": "success",
            "description": "",
            "description_tooltip": null,
            "layout": "IPY_MODEL_fe06b371c329428fb2d5a20da85f087d",
            "max": 231508,
            "min": 0,
            "orientation": "horizontal",
            "style": "IPY_MODEL_9f4cb0c666744553bd3494cb67f58f68",
            "value": 231508
          }
        },
        "9e2b7ba8986e4adbbd5d3b429f06e643": {
          "model_module": "@jupyter-widgets/controls",
          "model_name": "HTMLModel",
          "model_module_version": "1.5.0",
          "state": {
            "_dom_classes": [],
            "_model_module": "@jupyter-widgets/controls",
            "_model_module_version": "1.5.0",
            "_model_name": "HTMLModel",
            "_view_count": null,
            "_view_module": "@jupyter-widgets/controls",
            "_view_module_version": "1.5.0",
            "_view_name": "HTMLView",
            "description": "",
            "description_tooltip": null,
            "layout": "IPY_MODEL_4a5b8da87314479084c71550859d4698",
            "placeholder": "​",
            "style": "IPY_MODEL_982b6596fc19438290caac6b57a44ee3",
            "value": " 232k/232k [00:00&lt;00:00, 4.93MB/s]"
          }
        },
        "25d9d00d0075484db882aa909f545551": {
          "model_module": "@jupyter-widgets/base",
          "model_name": "LayoutModel",
          "model_module_version": "1.2.0",
          "state": {
            "_model_module": "@jupyter-widgets/base",
            "_model_module_version": "1.2.0",
            "_model_name": "LayoutModel",
            "_view_count": null,
            "_view_module": "@jupyter-widgets/base",
            "_view_module_version": "1.2.0",
            "_view_name": "LayoutView",
            "align_content": null,
            "align_items": null,
            "align_self": null,
            "border": null,
            "bottom": null,
            "display": null,
            "flex": null,
            "flex_flow": null,
            "grid_area": null,
            "grid_auto_columns": null,
            "grid_auto_flow": null,
            "grid_auto_rows": null,
            "grid_column": null,
            "grid_gap": null,
            "grid_row": null,
            "grid_template_areas": null,
            "grid_template_columns": null,
            "grid_template_rows": null,
            "height": null,
            "justify_content": null,
            "justify_items": null,
            "left": null,
            "margin": null,
            "max_height": null,
            "max_width": null,
            "min_height": null,
            "min_width": null,
            "object_fit": null,
            "object_position": null,
            "order": null,
            "overflow": null,
            "overflow_x": null,
            "overflow_y": null,
            "padding": null,
            "right": null,
            "top": null,
            "visibility": null,
            "width": null
          }
        },
        "c5b7f055cd6745a4bca538f127dac83b": {
          "model_module": "@jupyter-widgets/base",
          "model_name": "LayoutModel",
          "model_module_version": "1.2.0",
          "state": {
            "_model_module": "@jupyter-widgets/base",
            "_model_module_version": "1.2.0",
            "_model_name": "LayoutModel",
            "_view_count": null,
            "_view_module": "@jupyter-widgets/base",
            "_view_module_version": "1.2.0",
            "_view_name": "LayoutView",
            "align_content": null,
            "align_items": null,
            "align_self": null,
            "border": null,
            "bottom": null,
            "display": null,
            "flex": null,
            "flex_flow": null,
            "grid_area": null,
            "grid_auto_columns": null,
            "grid_auto_flow": null,
            "grid_auto_rows": null,
            "grid_column": null,
            "grid_gap": null,
            "grid_row": null,
            "grid_template_areas": null,
            "grid_template_columns": null,
            "grid_template_rows": null,
            "height": null,
            "justify_content": null,
            "justify_items": null,
            "left": null,
            "margin": null,
            "max_height": null,
            "max_width": null,
            "min_height": null,
            "min_width": null,
            "object_fit": null,
            "object_position": null,
            "order": null,
            "overflow": null,
            "overflow_x": null,
            "overflow_y": null,
            "padding": null,
            "right": null,
            "top": null,
            "visibility": null,
            "width": null
          }
        },
        "ce46719ecda64038bded51fabb397083": {
          "model_module": "@jupyter-widgets/controls",
          "model_name": "DescriptionStyleModel",
          "model_module_version": "1.5.0",
          "state": {
            "_model_module": "@jupyter-widgets/controls",
            "_model_module_version": "1.5.0",
            "_model_name": "DescriptionStyleModel",
            "_view_count": null,
            "_view_module": "@jupyter-widgets/base",
            "_view_module_version": "1.2.0",
            "_view_name": "StyleView",
            "description_width": ""
          }
        },
        "fe06b371c329428fb2d5a20da85f087d": {
          "model_module": "@jupyter-widgets/base",
          "model_name": "LayoutModel",
          "model_module_version": "1.2.0",
          "state": {
            "_model_module": "@jupyter-widgets/base",
            "_model_module_version": "1.2.0",
            "_model_name": "LayoutModel",
            "_view_count": null,
            "_view_module": "@jupyter-widgets/base",
            "_view_module_version": "1.2.0",
            "_view_name": "LayoutView",
            "align_content": null,
            "align_items": null,
            "align_self": null,
            "border": null,
            "bottom": null,
            "display": null,
            "flex": null,
            "flex_flow": null,
            "grid_area": null,
            "grid_auto_columns": null,
            "grid_auto_flow": null,
            "grid_auto_rows": null,
            "grid_column": null,
            "grid_gap": null,
            "grid_row": null,
            "grid_template_areas": null,
            "grid_template_columns": null,
            "grid_template_rows": null,
            "height": null,
            "justify_content": null,
            "justify_items": null,
            "left": null,
            "margin": null,
            "max_height": null,
            "max_width": null,
            "min_height": null,
            "min_width": null,
            "object_fit": null,
            "object_position": null,
            "order": null,
            "overflow": null,
            "overflow_x": null,
            "overflow_y": null,
            "padding": null,
            "right": null,
            "top": null,
            "visibility": null,
            "width": null
          }
        },
        "9f4cb0c666744553bd3494cb67f58f68": {
          "model_module": "@jupyter-widgets/controls",
          "model_name": "ProgressStyleModel",
          "model_module_version": "1.5.0",
          "state": {
            "_model_module": "@jupyter-widgets/controls",
            "_model_module_version": "1.5.0",
            "_model_name": "ProgressStyleModel",
            "_view_count": null,
            "_view_module": "@jupyter-widgets/base",
            "_view_module_version": "1.2.0",
            "_view_name": "StyleView",
            "bar_color": null,
            "description_width": ""
          }
        },
        "4a5b8da87314479084c71550859d4698": {
          "model_module": "@jupyter-widgets/base",
          "model_name": "LayoutModel",
          "model_module_version": "1.2.0",
          "state": {
            "_model_module": "@jupyter-widgets/base",
            "_model_module_version": "1.2.0",
            "_model_name": "LayoutModel",
            "_view_count": null,
            "_view_module": "@jupyter-widgets/base",
            "_view_module_version": "1.2.0",
            "_view_name": "LayoutView",
            "align_content": null,
            "align_items": null,
            "align_self": null,
            "border": null,
            "bottom": null,
            "display": null,
            "flex": null,
            "flex_flow": null,
            "grid_area": null,
            "grid_auto_columns": null,
            "grid_auto_flow": null,
            "grid_auto_rows": null,
            "grid_column": null,
            "grid_gap": null,
            "grid_row": null,
            "grid_template_areas": null,
            "grid_template_columns": null,
            "grid_template_rows": null,
            "height": null,
            "justify_content": null,
            "justify_items": null,
            "left": null,
            "margin": null,
            "max_height": null,
            "max_width": null,
            "min_height": null,
            "min_width": null,
            "object_fit": null,
            "object_position": null,
            "order": null,
            "overflow": null,
            "overflow_x": null,
            "overflow_y": null,
            "padding": null,
            "right": null,
            "top": null,
            "visibility": null,
            "width": null
          }
        },
        "982b6596fc19438290caac6b57a44ee3": {
          "model_module": "@jupyter-widgets/controls",
          "model_name": "DescriptionStyleModel",
          "model_module_version": "1.5.0",
          "state": {
            "_model_module": "@jupyter-widgets/controls",
            "_model_module_version": "1.5.0",
            "_model_name": "DescriptionStyleModel",
            "_view_count": null,
            "_view_module": "@jupyter-widgets/base",
            "_view_module_version": "1.2.0",
            "_view_name": "StyleView",
            "description_width": ""
          }
        },
        "0b4bf3ef1a2f4317a59021af0f0a503e": {
          "model_module": "@jupyter-widgets/controls",
          "model_name": "HBoxModel",
          "model_module_version": "1.5.0",
          "state": {
            "_dom_classes": [],
            "_model_module": "@jupyter-widgets/controls",
            "_model_module_version": "1.5.0",
            "_model_name": "HBoxModel",
            "_view_count": null,
            "_view_module": "@jupyter-widgets/controls",
            "_view_module_version": "1.5.0",
            "_view_name": "HBoxView",
            "box_style": "",
            "children": [
              "IPY_MODEL_675ff498e85a413e9cc1c9849d1c927d",
              "IPY_MODEL_3dda32eac6924b0598bfeee9f63385a3",
              "IPY_MODEL_a3ab810801c1481e88e04d3f217857e4"
            ],
            "layout": "IPY_MODEL_4a67cbe21af24691859389d3bdd065a2"
          }
        },
        "675ff498e85a413e9cc1c9849d1c927d": {
          "model_module": "@jupyter-widgets/controls",
          "model_name": "HTMLModel",
          "model_module_version": "1.5.0",
          "state": {
            "_dom_classes": [],
            "_model_module": "@jupyter-widgets/controls",
            "_model_module_version": "1.5.0",
            "_model_name": "HTMLModel",
            "_view_count": null,
            "_view_module": "@jupyter-widgets/controls",
            "_view_module_version": "1.5.0",
            "_view_name": "HTMLView",
            "description": "",
            "description_tooltip": null,
            "layout": "IPY_MODEL_c1ac3190a0804533bc183049906fc655",
            "placeholder": "​",
            "style": "IPY_MODEL_e64f0d6dbe2645f9b195cfa3d81763be",
            "value": "tokenizer.json: 100%"
          }
        },
        "3dda32eac6924b0598bfeee9f63385a3": {
          "model_module": "@jupyter-widgets/controls",
          "model_name": "FloatProgressModel",
          "model_module_version": "1.5.0",
          "state": {
            "_dom_classes": [],
            "_model_module": "@jupyter-widgets/controls",
            "_model_module_version": "1.5.0",
            "_model_name": "FloatProgressModel",
            "_view_count": null,
            "_view_module": "@jupyter-widgets/controls",
            "_view_module_version": "1.5.0",
            "_view_name": "ProgressView",
            "bar_style": "success",
            "description": "",
            "description_tooltip": null,
            "layout": "IPY_MODEL_fad9c31c25ca41f599497eed43b6286d",
            "max": 466062,
            "min": 0,
            "orientation": "horizontal",
            "style": "IPY_MODEL_53c04de2259e4ad1b6ad6163dc698f7b",
            "value": 466062
          }
        },
        "a3ab810801c1481e88e04d3f217857e4": {
          "model_module": "@jupyter-widgets/controls",
          "model_name": "HTMLModel",
          "model_module_version": "1.5.0",
          "state": {
            "_dom_classes": [],
            "_model_module": "@jupyter-widgets/controls",
            "_model_module_version": "1.5.0",
            "_model_name": "HTMLModel",
            "_view_count": null,
            "_view_module": "@jupyter-widgets/controls",
            "_view_module_version": "1.5.0",
            "_view_name": "HTMLView",
            "description": "",
            "description_tooltip": null,
            "layout": "IPY_MODEL_b96573c66e0845e9931aedcf4613795c",
            "placeholder": "​",
            "style": "IPY_MODEL_a3a43e815d5a4918adb14c2c3801fcd0",
            "value": " 466k/466k [00:00&lt;00:00, 13.7MB/s]"
          }
        },
        "4a67cbe21af24691859389d3bdd065a2": {
          "model_module": "@jupyter-widgets/base",
          "model_name": "LayoutModel",
          "model_module_version": "1.2.0",
          "state": {
            "_model_module": "@jupyter-widgets/base",
            "_model_module_version": "1.2.0",
            "_model_name": "LayoutModel",
            "_view_count": null,
            "_view_module": "@jupyter-widgets/base",
            "_view_module_version": "1.2.0",
            "_view_name": "LayoutView",
            "align_content": null,
            "align_items": null,
            "align_self": null,
            "border": null,
            "bottom": null,
            "display": null,
            "flex": null,
            "flex_flow": null,
            "grid_area": null,
            "grid_auto_columns": null,
            "grid_auto_flow": null,
            "grid_auto_rows": null,
            "grid_column": null,
            "grid_gap": null,
            "grid_row": null,
            "grid_template_areas": null,
            "grid_template_columns": null,
            "grid_template_rows": null,
            "height": null,
            "justify_content": null,
            "justify_items": null,
            "left": null,
            "margin": null,
            "max_height": null,
            "max_width": null,
            "min_height": null,
            "min_width": null,
            "object_fit": null,
            "object_position": null,
            "order": null,
            "overflow": null,
            "overflow_x": null,
            "overflow_y": null,
            "padding": null,
            "right": null,
            "top": null,
            "visibility": null,
            "width": null
          }
        },
        "c1ac3190a0804533bc183049906fc655": {
          "model_module": "@jupyter-widgets/base",
          "model_name": "LayoutModel",
          "model_module_version": "1.2.0",
          "state": {
            "_model_module": "@jupyter-widgets/base",
            "_model_module_version": "1.2.0",
            "_model_name": "LayoutModel",
            "_view_count": null,
            "_view_module": "@jupyter-widgets/base",
            "_view_module_version": "1.2.0",
            "_view_name": "LayoutView",
            "align_content": null,
            "align_items": null,
            "align_self": null,
            "border": null,
            "bottom": null,
            "display": null,
            "flex": null,
            "flex_flow": null,
            "grid_area": null,
            "grid_auto_columns": null,
            "grid_auto_flow": null,
            "grid_auto_rows": null,
            "grid_column": null,
            "grid_gap": null,
            "grid_row": null,
            "grid_template_areas": null,
            "grid_template_columns": null,
            "grid_template_rows": null,
            "height": null,
            "justify_content": null,
            "justify_items": null,
            "left": null,
            "margin": null,
            "max_height": null,
            "max_width": null,
            "min_height": null,
            "min_width": null,
            "object_fit": null,
            "object_position": null,
            "order": null,
            "overflow": null,
            "overflow_x": null,
            "overflow_y": null,
            "padding": null,
            "right": null,
            "top": null,
            "visibility": null,
            "width": null
          }
        },
        "e64f0d6dbe2645f9b195cfa3d81763be": {
          "model_module": "@jupyter-widgets/controls",
          "model_name": "DescriptionStyleModel",
          "model_module_version": "1.5.0",
          "state": {
            "_model_module": "@jupyter-widgets/controls",
            "_model_module_version": "1.5.0",
            "_model_name": "DescriptionStyleModel",
            "_view_count": null,
            "_view_module": "@jupyter-widgets/base",
            "_view_module_version": "1.2.0",
            "_view_name": "StyleView",
            "description_width": ""
          }
        },
        "fad9c31c25ca41f599497eed43b6286d": {
          "model_module": "@jupyter-widgets/base",
          "model_name": "LayoutModel",
          "model_module_version": "1.2.0",
          "state": {
            "_model_module": "@jupyter-widgets/base",
            "_model_module_version": "1.2.0",
            "_model_name": "LayoutModel",
            "_view_count": null,
            "_view_module": "@jupyter-widgets/base",
            "_view_module_version": "1.2.0",
            "_view_name": "LayoutView",
            "align_content": null,
            "align_items": null,
            "align_self": null,
            "border": null,
            "bottom": null,
            "display": null,
            "flex": null,
            "flex_flow": null,
            "grid_area": null,
            "grid_auto_columns": null,
            "grid_auto_flow": null,
            "grid_auto_rows": null,
            "grid_column": null,
            "grid_gap": null,
            "grid_row": null,
            "grid_template_areas": null,
            "grid_template_columns": null,
            "grid_template_rows": null,
            "height": null,
            "justify_content": null,
            "justify_items": null,
            "left": null,
            "margin": null,
            "max_height": null,
            "max_width": null,
            "min_height": null,
            "min_width": null,
            "object_fit": null,
            "object_position": null,
            "order": null,
            "overflow": null,
            "overflow_x": null,
            "overflow_y": null,
            "padding": null,
            "right": null,
            "top": null,
            "visibility": null,
            "width": null
          }
        },
        "53c04de2259e4ad1b6ad6163dc698f7b": {
          "model_module": "@jupyter-widgets/controls",
          "model_name": "ProgressStyleModel",
          "model_module_version": "1.5.0",
          "state": {
            "_model_module": "@jupyter-widgets/controls",
            "_model_module_version": "1.5.0",
            "_model_name": "ProgressStyleModel",
            "_view_count": null,
            "_view_module": "@jupyter-widgets/base",
            "_view_module_version": "1.2.0",
            "_view_name": "StyleView",
            "bar_color": null,
            "description_width": ""
          }
        },
        "b96573c66e0845e9931aedcf4613795c": {
          "model_module": "@jupyter-widgets/base",
          "model_name": "LayoutModel",
          "model_module_version": "1.2.0",
          "state": {
            "_model_module": "@jupyter-widgets/base",
            "_model_module_version": "1.2.0",
            "_model_name": "LayoutModel",
            "_view_count": null,
            "_view_module": "@jupyter-widgets/base",
            "_view_module_version": "1.2.0",
            "_view_name": "LayoutView",
            "align_content": null,
            "align_items": null,
            "align_self": null,
            "border": null,
            "bottom": null,
            "display": null,
            "flex": null,
            "flex_flow": null,
            "grid_area": null,
            "grid_auto_columns": null,
            "grid_auto_flow": null,
            "grid_auto_rows": null,
            "grid_column": null,
            "grid_gap": null,
            "grid_row": null,
            "grid_template_areas": null,
            "grid_template_columns": null,
            "grid_template_rows": null,
            "height": null,
            "justify_content": null,
            "justify_items": null,
            "left": null,
            "margin": null,
            "max_height": null,
            "max_width": null,
            "min_height": null,
            "min_width": null,
            "object_fit": null,
            "object_position": null,
            "order": null,
            "overflow": null,
            "overflow_x": null,
            "overflow_y": null,
            "padding": null,
            "right": null,
            "top": null,
            "visibility": null,
            "width": null
          }
        },
        "a3a43e815d5a4918adb14c2c3801fcd0": {
          "model_module": "@jupyter-widgets/controls",
          "model_name": "DescriptionStyleModel",
          "model_module_version": "1.5.0",
          "state": {
            "_model_module": "@jupyter-widgets/controls",
            "_model_module_version": "1.5.0",
            "_model_name": "DescriptionStyleModel",
            "_view_count": null,
            "_view_module": "@jupyter-widgets/base",
            "_view_module_version": "1.2.0",
            "_view_name": "StyleView",
            "description_width": ""
          }
        },
        "37c295b378db4d919feeeb4b595c975d": {
          "model_module": "@jupyter-widgets/controls",
          "model_name": "HBoxModel",
          "model_module_version": "1.5.0",
          "state": {
            "_dom_classes": [],
            "_model_module": "@jupyter-widgets/controls",
            "_model_module_version": "1.5.0",
            "_model_name": "HBoxModel",
            "_view_count": null,
            "_view_module": "@jupyter-widgets/controls",
            "_view_module_version": "1.5.0",
            "_view_name": "HBoxView",
            "box_style": "",
            "children": [
              "IPY_MODEL_3d0d66da3a8b4763accded9d0d9c3b5f",
              "IPY_MODEL_db40a68c228a4fcea20f79a0f194cd9a",
              "IPY_MODEL_df231100edc64b8a9483c4967f3c7cb2"
            ],
            "layout": "IPY_MODEL_3776bd034271454fb9384b9102498b19"
          }
        },
        "3d0d66da3a8b4763accded9d0d9c3b5f": {
          "model_module": "@jupyter-widgets/controls",
          "model_name": "HTMLModel",
          "model_module_version": "1.5.0",
          "state": {
            "_dom_classes": [],
            "_model_module": "@jupyter-widgets/controls",
            "_model_module_version": "1.5.0",
            "_model_name": "HTMLModel",
            "_view_count": null,
            "_view_module": "@jupyter-widgets/controls",
            "_view_module_version": "1.5.0",
            "_view_name": "HTMLView",
            "description": "",
            "description_tooltip": null,
            "layout": "IPY_MODEL_543036b6a6d94eb98347301506060d2e",
            "placeholder": "​",
            "style": "IPY_MODEL_03388e69ac7746e5925e1698724e47de",
            "value": "config.json: 100%"
          }
        },
        "db40a68c228a4fcea20f79a0f194cd9a": {
          "model_module": "@jupyter-widgets/controls",
          "model_name": "FloatProgressModel",
          "model_module_version": "1.5.0",
          "state": {
            "_dom_classes": [],
            "_model_module": "@jupyter-widgets/controls",
            "_model_module_version": "1.5.0",
            "_model_name": "FloatProgressModel",
            "_view_count": null,
            "_view_module": "@jupyter-widgets/controls",
            "_view_module_version": "1.5.0",
            "_view_name": "ProgressView",
            "bar_style": "success",
            "description": "",
            "description_tooltip": null,
            "layout": "IPY_MODEL_089b176c84f344b58eb05643b2e3e3d4",
            "max": 570,
            "min": 0,
            "orientation": "horizontal",
            "style": "IPY_MODEL_bd714dbc554d41289acc22aceaf5d0bc",
            "value": 570
          }
        },
        "df231100edc64b8a9483c4967f3c7cb2": {
          "model_module": "@jupyter-widgets/controls",
          "model_name": "HTMLModel",
          "model_module_version": "1.5.0",
          "state": {
            "_dom_classes": [],
            "_model_module": "@jupyter-widgets/controls",
            "_model_module_version": "1.5.0",
            "_model_name": "HTMLModel",
            "_view_count": null,
            "_view_module": "@jupyter-widgets/controls",
            "_view_module_version": "1.5.0",
            "_view_name": "HTMLView",
            "description": "",
            "description_tooltip": null,
            "layout": "IPY_MODEL_c9949a8dd8a84d44a4de11c028df5bb0",
            "placeholder": "​",
            "style": "IPY_MODEL_1f7b8f3520bc4f328892d3572c360363",
            "value": " 570/570 [00:00&lt;00:00, 23.6kB/s]"
          }
        },
        "3776bd034271454fb9384b9102498b19": {
          "model_module": "@jupyter-widgets/base",
          "model_name": "LayoutModel",
          "model_module_version": "1.2.0",
          "state": {
            "_model_module": "@jupyter-widgets/base",
            "_model_module_version": "1.2.0",
            "_model_name": "LayoutModel",
            "_view_count": null,
            "_view_module": "@jupyter-widgets/base",
            "_view_module_version": "1.2.0",
            "_view_name": "LayoutView",
            "align_content": null,
            "align_items": null,
            "align_self": null,
            "border": null,
            "bottom": null,
            "display": null,
            "flex": null,
            "flex_flow": null,
            "grid_area": null,
            "grid_auto_columns": null,
            "grid_auto_flow": null,
            "grid_auto_rows": null,
            "grid_column": null,
            "grid_gap": null,
            "grid_row": null,
            "grid_template_areas": null,
            "grid_template_columns": null,
            "grid_template_rows": null,
            "height": null,
            "justify_content": null,
            "justify_items": null,
            "left": null,
            "margin": null,
            "max_height": null,
            "max_width": null,
            "min_height": null,
            "min_width": null,
            "object_fit": null,
            "object_position": null,
            "order": null,
            "overflow": null,
            "overflow_x": null,
            "overflow_y": null,
            "padding": null,
            "right": null,
            "top": null,
            "visibility": null,
            "width": null
          }
        },
        "543036b6a6d94eb98347301506060d2e": {
          "model_module": "@jupyter-widgets/base",
          "model_name": "LayoutModel",
          "model_module_version": "1.2.0",
          "state": {
            "_model_module": "@jupyter-widgets/base",
            "_model_module_version": "1.2.0",
            "_model_name": "LayoutModel",
            "_view_count": null,
            "_view_module": "@jupyter-widgets/base",
            "_view_module_version": "1.2.0",
            "_view_name": "LayoutView",
            "align_content": null,
            "align_items": null,
            "align_self": null,
            "border": null,
            "bottom": null,
            "display": null,
            "flex": null,
            "flex_flow": null,
            "grid_area": null,
            "grid_auto_columns": null,
            "grid_auto_flow": null,
            "grid_auto_rows": null,
            "grid_column": null,
            "grid_gap": null,
            "grid_row": null,
            "grid_template_areas": null,
            "grid_template_columns": null,
            "grid_template_rows": null,
            "height": null,
            "justify_content": null,
            "justify_items": null,
            "left": null,
            "margin": null,
            "max_height": null,
            "max_width": null,
            "min_height": null,
            "min_width": null,
            "object_fit": null,
            "object_position": null,
            "order": null,
            "overflow": null,
            "overflow_x": null,
            "overflow_y": null,
            "padding": null,
            "right": null,
            "top": null,
            "visibility": null,
            "width": null
          }
        },
        "03388e69ac7746e5925e1698724e47de": {
          "model_module": "@jupyter-widgets/controls",
          "model_name": "DescriptionStyleModel",
          "model_module_version": "1.5.0",
          "state": {
            "_model_module": "@jupyter-widgets/controls",
            "_model_module_version": "1.5.0",
            "_model_name": "DescriptionStyleModel",
            "_view_count": null,
            "_view_module": "@jupyter-widgets/base",
            "_view_module_version": "1.2.0",
            "_view_name": "StyleView",
            "description_width": ""
          }
        },
        "089b176c84f344b58eb05643b2e3e3d4": {
          "model_module": "@jupyter-widgets/base",
          "model_name": "LayoutModel",
          "model_module_version": "1.2.0",
          "state": {
            "_model_module": "@jupyter-widgets/base",
            "_model_module_version": "1.2.0",
            "_model_name": "LayoutModel",
            "_view_count": null,
            "_view_module": "@jupyter-widgets/base",
            "_view_module_version": "1.2.0",
            "_view_name": "LayoutView",
            "align_content": null,
            "align_items": null,
            "align_self": null,
            "border": null,
            "bottom": null,
            "display": null,
            "flex": null,
            "flex_flow": null,
            "grid_area": null,
            "grid_auto_columns": null,
            "grid_auto_flow": null,
            "grid_auto_rows": null,
            "grid_column": null,
            "grid_gap": null,
            "grid_row": null,
            "grid_template_areas": null,
            "grid_template_columns": null,
            "grid_template_rows": null,
            "height": null,
            "justify_content": null,
            "justify_items": null,
            "left": null,
            "margin": null,
            "max_height": null,
            "max_width": null,
            "min_height": null,
            "min_width": null,
            "object_fit": null,
            "object_position": null,
            "order": null,
            "overflow": null,
            "overflow_x": null,
            "overflow_y": null,
            "padding": null,
            "right": null,
            "top": null,
            "visibility": null,
            "width": null
          }
        },
        "bd714dbc554d41289acc22aceaf5d0bc": {
          "model_module": "@jupyter-widgets/controls",
          "model_name": "ProgressStyleModel",
          "model_module_version": "1.5.0",
          "state": {
            "_model_module": "@jupyter-widgets/controls",
            "_model_module_version": "1.5.0",
            "_model_name": "ProgressStyleModel",
            "_view_count": null,
            "_view_module": "@jupyter-widgets/base",
            "_view_module_version": "1.2.0",
            "_view_name": "StyleView",
            "bar_color": null,
            "description_width": ""
          }
        },
        "c9949a8dd8a84d44a4de11c028df5bb0": {
          "model_module": "@jupyter-widgets/base",
          "model_name": "LayoutModel",
          "model_module_version": "1.2.0",
          "state": {
            "_model_module": "@jupyter-widgets/base",
            "_model_module_version": "1.2.0",
            "_model_name": "LayoutModel",
            "_view_count": null,
            "_view_module": "@jupyter-widgets/base",
            "_view_module_version": "1.2.0",
            "_view_name": "LayoutView",
            "align_content": null,
            "align_items": null,
            "align_self": null,
            "border": null,
            "bottom": null,
            "display": null,
            "flex": null,
            "flex_flow": null,
            "grid_area": null,
            "grid_auto_columns": null,
            "grid_auto_flow": null,
            "grid_auto_rows": null,
            "grid_column": null,
            "grid_gap": null,
            "grid_row": null,
            "grid_template_areas": null,
            "grid_template_columns": null,
            "grid_template_rows": null,
            "height": null,
            "justify_content": null,
            "justify_items": null,
            "left": null,
            "margin": null,
            "max_height": null,
            "max_width": null,
            "min_height": null,
            "min_width": null,
            "object_fit": null,
            "object_position": null,
            "order": null,
            "overflow": null,
            "overflow_x": null,
            "overflow_y": null,
            "padding": null,
            "right": null,
            "top": null,
            "visibility": null,
            "width": null
          }
        },
        "1f7b8f3520bc4f328892d3572c360363": {
          "model_module": "@jupyter-widgets/controls",
          "model_name": "DescriptionStyleModel",
          "model_module_version": "1.5.0",
          "state": {
            "_model_module": "@jupyter-widgets/controls",
            "_model_module_version": "1.5.0",
            "_model_name": "DescriptionStyleModel",
            "_view_count": null,
            "_view_module": "@jupyter-widgets/base",
            "_view_module_version": "1.2.0",
            "_view_name": "StyleView",
            "description_width": ""
          }
        },
        "eab176b1c7ef45b8b37ee512be15f6bc": {
          "model_module": "@jupyter-widgets/controls",
          "model_name": "HBoxModel",
          "model_module_version": "1.5.0",
          "state": {
            "_dom_classes": [],
            "_model_module": "@jupyter-widgets/controls",
            "_model_module_version": "1.5.0",
            "_model_name": "HBoxModel",
            "_view_count": null,
            "_view_module": "@jupyter-widgets/controls",
            "_view_module_version": "1.5.0",
            "_view_name": "HBoxView",
            "box_style": "",
            "children": [
              "IPY_MODEL_926ede1eed0d45b9ae6a39d42bfeba36",
              "IPY_MODEL_5a7dd26e3a54483c9ba68c2f9fa66fb9",
              "IPY_MODEL_7f7df57f6e57471b887c586436ef241b"
            ],
            "layout": "IPY_MODEL_90bbadcd0e1c47ceb579d13d2ff0bfed"
          }
        },
        "926ede1eed0d45b9ae6a39d42bfeba36": {
          "model_module": "@jupyter-widgets/controls",
          "model_name": "HTMLModel",
          "model_module_version": "1.5.0",
          "state": {
            "_dom_classes": [],
            "_model_module": "@jupyter-widgets/controls",
            "_model_module_version": "1.5.0",
            "_model_name": "HTMLModel",
            "_view_count": null,
            "_view_module": "@jupyter-widgets/controls",
            "_view_module_version": "1.5.0",
            "_view_name": "HTMLView",
            "description": "",
            "description_tooltip": null,
            "layout": "IPY_MODEL_5f08706b82b64d7589863da6fc23c3b2",
            "placeholder": "​",
            "style": "IPY_MODEL_54837d0d3ebe417b889a69fbe8d7f45a",
            "value": "model.safetensors: 100%"
          }
        },
        "5a7dd26e3a54483c9ba68c2f9fa66fb9": {
          "model_module": "@jupyter-widgets/controls",
          "model_name": "FloatProgressModel",
          "model_module_version": "1.5.0",
          "state": {
            "_dom_classes": [],
            "_model_module": "@jupyter-widgets/controls",
            "_model_module_version": "1.5.0",
            "_model_name": "FloatProgressModel",
            "_view_count": null,
            "_view_module": "@jupyter-widgets/controls",
            "_view_module_version": "1.5.0",
            "_view_name": "ProgressView",
            "bar_style": "success",
            "description": "",
            "description_tooltip": null,
            "layout": "IPY_MODEL_538cb3782f9440f1bea0ee73cf0ccc7f",
            "max": 440449768,
            "min": 0,
            "orientation": "horizontal",
            "style": "IPY_MODEL_7142493821ac414fbc534c8b49e101a8",
            "value": 440449768
          }
        },
        "7f7df57f6e57471b887c586436ef241b": {
          "model_module": "@jupyter-widgets/controls",
          "model_name": "HTMLModel",
          "model_module_version": "1.5.0",
          "state": {
            "_dom_classes": [],
            "_model_module": "@jupyter-widgets/controls",
            "_model_module_version": "1.5.0",
            "_model_name": "HTMLModel",
            "_view_count": null,
            "_view_module": "@jupyter-widgets/controls",
            "_view_module_version": "1.5.0",
            "_view_name": "HTMLView",
            "description": "",
            "description_tooltip": null,
            "layout": "IPY_MODEL_a939ae3c416447d2bbe87260964b103d",
            "placeholder": "​",
            "style": "IPY_MODEL_34a7fe95bae349d38dd1899926e9efd2",
            "value": " 440M/440M [00:05&lt;00:00, 88.6MB/s]"
          }
        },
        "90bbadcd0e1c47ceb579d13d2ff0bfed": {
          "model_module": "@jupyter-widgets/base",
          "model_name": "LayoutModel",
          "model_module_version": "1.2.0",
          "state": {
            "_model_module": "@jupyter-widgets/base",
            "_model_module_version": "1.2.0",
            "_model_name": "LayoutModel",
            "_view_count": null,
            "_view_module": "@jupyter-widgets/base",
            "_view_module_version": "1.2.0",
            "_view_name": "LayoutView",
            "align_content": null,
            "align_items": null,
            "align_self": null,
            "border": null,
            "bottom": null,
            "display": null,
            "flex": null,
            "flex_flow": null,
            "grid_area": null,
            "grid_auto_columns": null,
            "grid_auto_flow": null,
            "grid_auto_rows": null,
            "grid_column": null,
            "grid_gap": null,
            "grid_row": null,
            "grid_template_areas": null,
            "grid_template_columns": null,
            "grid_template_rows": null,
            "height": null,
            "justify_content": null,
            "justify_items": null,
            "left": null,
            "margin": null,
            "max_height": null,
            "max_width": null,
            "min_height": null,
            "min_width": null,
            "object_fit": null,
            "object_position": null,
            "order": null,
            "overflow": null,
            "overflow_x": null,
            "overflow_y": null,
            "padding": null,
            "right": null,
            "top": null,
            "visibility": null,
            "width": null
          }
        },
        "5f08706b82b64d7589863da6fc23c3b2": {
          "model_module": "@jupyter-widgets/base",
          "model_name": "LayoutModel",
          "model_module_version": "1.2.0",
          "state": {
            "_model_module": "@jupyter-widgets/base",
            "_model_module_version": "1.2.0",
            "_model_name": "LayoutModel",
            "_view_count": null,
            "_view_module": "@jupyter-widgets/base",
            "_view_module_version": "1.2.0",
            "_view_name": "LayoutView",
            "align_content": null,
            "align_items": null,
            "align_self": null,
            "border": null,
            "bottom": null,
            "display": null,
            "flex": null,
            "flex_flow": null,
            "grid_area": null,
            "grid_auto_columns": null,
            "grid_auto_flow": null,
            "grid_auto_rows": null,
            "grid_column": null,
            "grid_gap": null,
            "grid_row": null,
            "grid_template_areas": null,
            "grid_template_columns": null,
            "grid_template_rows": null,
            "height": null,
            "justify_content": null,
            "justify_items": null,
            "left": null,
            "margin": null,
            "max_height": null,
            "max_width": null,
            "min_height": null,
            "min_width": null,
            "object_fit": null,
            "object_position": null,
            "order": null,
            "overflow": null,
            "overflow_x": null,
            "overflow_y": null,
            "padding": null,
            "right": null,
            "top": null,
            "visibility": null,
            "width": null
          }
        },
        "54837d0d3ebe417b889a69fbe8d7f45a": {
          "model_module": "@jupyter-widgets/controls",
          "model_name": "DescriptionStyleModel",
          "model_module_version": "1.5.0",
          "state": {
            "_model_module": "@jupyter-widgets/controls",
            "_model_module_version": "1.5.0",
            "_model_name": "DescriptionStyleModel",
            "_view_count": null,
            "_view_module": "@jupyter-widgets/base",
            "_view_module_version": "1.2.0",
            "_view_name": "StyleView",
            "description_width": ""
          }
        },
        "538cb3782f9440f1bea0ee73cf0ccc7f": {
          "model_module": "@jupyter-widgets/base",
          "model_name": "LayoutModel",
          "model_module_version": "1.2.0",
          "state": {
            "_model_module": "@jupyter-widgets/base",
            "_model_module_version": "1.2.0",
            "_model_name": "LayoutModel",
            "_view_count": null,
            "_view_module": "@jupyter-widgets/base",
            "_view_module_version": "1.2.0",
            "_view_name": "LayoutView",
            "align_content": null,
            "align_items": null,
            "align_self": null,
            "border": null,
            "bottom": null,
            "display": null,
            "flex": null,
            "flex_flow": null,
            "grid_area": null,
            "grid_auto_columns": null,
            "grid_auto_flow": null,
            "grid_auto_rows": null,
            "grid_column": null,
            "grid_gap": null,
            "grid_row": null,
            "grid_template_areas": null,
            "grid_template_columns": null,
            "grid_template_rows": null,
            "height": null,
            "justify_content": null,
            "justify_items": null,
            "left": null,
            "margin": null,
            "max_height": null,
            "max_width": null,
            "min_height": null,
            "min_width": null,
            "object_fit": null,
            "object_position": null,
            "order": null,
            "overflow": null,
            "overflow_x": null,
            "overflow_y": null,
            "padding": null,
            "right": null,
            "top": null,
            "visibility": null,
            "width": null
          }
        },
        "7142493821ac414fbc534c8b49e101a8": {
          "model_module": "@jupyter-widgets/controls",
          "model_name": "ProgressStyleModel",
          "model_module_version": "1.5.0",
          "state": {
            "_model_module": "@jupyter-widgets/controls",
            "_model_module_version": "1.5.0",
            "_model_name": "ProgressStyleModel",
            "_view_count": null,
            "_view_module": "@jupyter-widgets/base",
            "_view_module_version": "1.2.0",
            "_view_name": "StyleView",
            "bar_color": null,
            "description_width": ""
          }
        },
        "a939ae3c416447d2bbe87260964b103d": {
          "model_module": "@jupyter-widgets/base",
          "model_name": "LayoutModel",
          "model_module_version": "1.2.0",
          "state": {
            "_model_module": "@jupyter-widgets/base",
            "_model_module_version": "1.2.0",
            "_model_name": "LayoutModel",
            "_view_count": null,
            "_view_module": "@jupyter-widgets/base",
            "_view_module_version": "1.2.0",
            "_view_name": "LayoutView",
            "align_content": null,
            "align_items": null,
            "align_self": null,
            "border": null,
            "bottom": null,
            "display": null,
            "flex": null,
            "flex_flow": null,
            "grid_area": null,
            "grid_auto_columns": null,
            "grid_auto_flow": null,
            "grid_auto_rows": null,
            "grid_column": null,
            "grid_gap": null,
            "grid_row": null,
            "grid_template_areas": null,
            "grid_template_columns": null,
            "grid_template_rows": null,
            "height": null,
            "justify_content": null,
            "justify_items": null,
            "left": null,
            "margin": null,
            "max_height": null,
            "max_width": null,
            "min_height": null,
            "min_width": null,
            "object_fit": null,
            "object_position": null,
            "order": null,
            "overflow": null,
            "overflow_x": null,
            "overflow_y": null,
            "padding": null,
            "right": null,
            "top": null,
            "visibility": null,
            "width": null
          }
        },
        "34a7fe95bae349d38dd1899926e9efd2": {
          "model_module": "@jupyter-widgets/controls",
          "model_name": "DescriptionStyleModel",
          "model_module_version": "1.5.0",
          "state": {
            "_model_module": "@jupyter-widgets/controls",
            "_model_module_version": "1.5.0",
            "_model_name": "DescriptionStyleModel",
            "_view_count": null,
            "_view_module": "@jupyter-widgets/base",
            "_view_module_version": "1.2.0",
            "_view_name": "StyleView",
            "description_width": ""
          }
        }
      }
    }
  },
  "nbformat": 4,
  "nbformat_minor": 0
}